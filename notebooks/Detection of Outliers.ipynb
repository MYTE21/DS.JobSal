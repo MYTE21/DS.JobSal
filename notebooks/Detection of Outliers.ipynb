{
 "cells": [
  {
   "cell_type": "markdown",
   "metadata": {},
   "source": [
    "<h1 style=\"color:darkmagenta; font-family:Cursive\">\n",
    "    <center>\n",
    "        <b>Detection of Outliers of Data Science Job Salary</b>\n",
    "    </center>\n",
    "</h1>"
   ]
  },
  {
   "cell_type": "markdown",
   "metadata": {},
   "source": [
    "## <div><p style=\"color:#b50264; font-family:Cursive\"><b>🎯 Notebook Goal</p></div>"
   ]
  },
  {
   "cell_type": "markdown",
   "metadata": {},
   "source": [
    "1. **Detecting the outliers** of the salary of Data Science Job."
   ]
  },
  {
   "cell_type": "markdown",
   "metadata": {},
   "source": [
    "## <div><p style=\"color:#b50264; font-family:Cursive\"><b>🏷️ Table of Contents</p></div>\n",
    "<a id=\"top\"></a>\n",
    "<div class=\"list-group\" id=\"list-tab\" role=\"tablist\">\n",
    "\n",
    "   1. [Import Necessary Libraries](#1)\n",
    "   2. [Getting Data](#2)\n",
    "   3. [Detecting Outliers](#3)\n",
    "   4. [Visualizing Outliers](#4)"
   ]
  },
  {
   "cell_type": "markdown",
   "metadata": {},
   "source": [
    "<a id=\"1\"></a>\n",
    "## <div><p style=\"color:darkmagenta; font-family:Cursive\"><b>1. Import Necessary Libraries</p></div>"
   ]
  },
  {
   "cell_type": "code",
   "execution_count": 19,
   "metadata": {},
   "outputs": [],
   "source": [
    "# data\n",
    "import pandas as pd\n",
    "import numpy as np"
   ]
  },
  {
   "cell_type": "markdown",
   "metadata": {},
   "source": [
    "<a id=\"2\"></a>\n",
    "## <div><p style=\"color:darkmagenta; font-family:Cursive\"><b>2. Getting Data</p></div>"
   ]
  },
  {
   "cell_type": "code",
   "execution_count": 20,
   "metadata": {},
   "outputs": [
    {
     "data": {
      "text/html": [
       "<div>\n",
       "<style scoped>\n",
       "    .dataframe tbody tr th:only-of-type {\n",
       "        vertical-align: middle;\n",
       "    }\n",
       "\n",
       "    .dataframe tbody tr th {\n",
       "        vertical-align: top;\n",
       "    }\n",
       "\n",
       "    .dataframe thead th {\n",
       "        text-align: right;\n",
       "    }\n",
       "</style>\n",
       "<table border=\"1\" class=\"dataframe\">\n",
       "  <thead>\n",
       "    <tr style=\"text-align: right;\">\n",
       "      <th></th>\n",
       "      <th>work_year</th>\n",
       "      <th>experience_level</th>\n",
       "      <th>employment_type</th>\n",
       "      <th>job_title</th>\n",
       "      <th>salary</th>\n",
       "      <th>salary_currency</th>\n",
       "      <th>salary_in_usd</th>\n",
       "      <th>employee_residence</th>\n",
       "      <th>remote_ratio</th>\n",
       "      <th>company_location</th>\n",
       "      <th>company_size</th>\n",
       "    </tr>\n",
       "  </thead>\n",
       "  <tbody>\n",
       "    <tr>\n",
       "      <th>0</th>\n",
       "      <td>2020</td>\n",
       "      <td>MI</td>\n",
       "      <td>FT</td>\n",
       "      <td>Data Scientist</td>\n",
       "      <td>70000</td>\n",
       "      <td>EUR</td>\n",
       "      <td>79833</td>\n",
       "      <td>DE</td>\n",
       "      <td>0</td>\n",
       "      <td>DE</td>\n",
       "      <td>L</td>\n",
       "    </tr>\n",
       "    <tr>\n",
       "      <th>1</th>\n",
       "      <td>2020</td>\n",
       "      <td>SE</td>\n",
       "      <td>FT</td>\n",
       "      <td>Machine Learning Scientist</td>\n",
       "      <td>260000</td>\n",
       "      <td>USD</td>\n",
       "      <td>260000</td>\n",
       "      <td>JP</td>\n",
       "      <td>0</td>\n",
       "      <td>JP</td>\n",
       "      <td>S</td>\n",
       "    </tr>\n",
       "    <tr>\n",
       "      <th>2</th>\n",
       "      <td>2020</td>\n",
       "      <td>SE</td>\n",
       "      <td>FT</td>\n",
       "      <td>Big Data Engineer</td>\n",
       "      <td>85000</td>\n",
       "      <td>GBP</td>\n",
       "      <td>109024</td>\n",
       "      <td>GB</td>\n",
       "      <td>50</td>\n",
       "      <td>GB</td>\n",
       "      <td>M</td>\n",
       "    </tr>\n",
       "  </tbody>\n",
       "</table>\n",
       "</div>"
      ],
      "text/plain": [
       "   work_year experience_level employment_type                   job_title  \\\n",
       "0       2020               MI              FT              Data Scientist   \n",
       "1       2020               SE              FT  Machine Learning Scientist   \n",
       "2       2020               SE              FT           Big Data Engineer   \n",
       "\n",
       "   salary salary_currency  salary_in_usd employee_residence  remote_ratio  \\\n",
       "0   70000             EUR          79833                 DE             0   \n",
       "1  260000             USD         260000                 JP             0   \n",
       "2   85000             GBP         109024                 GB            50   \n",
       "\n",
       "  company_location company_size  \n",
       "0               DE            L  \n",
       "1               JP            S  \n",
       "2               GB            M  "
      ]
     },
     "execution_count": 20,
     "metadata": {},
     "output_type": "execute_result"
    }
   ],
   "source": [
    "# read data and create DataFrame\n",
    "df = pd.read_csv(\"../data_given/ds_salaries.csv\", index_col=0)\n",
    "df.head(3)"
   ]
  },
  {
   "cell_type": "markdown",
   "metadata": {},
   "source": [
    "<a id=\"3\"></a>\n",
    "## <div><p style=\"color:darkmagenta; font-family:Cursive\"><b>3. Detecting Outliers</p></div>"
   ]
  },
  {
   "cell_type": "code",
   "execution_count": 21,
   "metadata": {},
   "outputs": [],
   "source": [
    "# Quartile information show\n",
    "def show_quartile(quartile, percentile, col_name, quarter_value):\n",
    "    print(\"Value of {}:\".format(quartile))\n",
    "    print(f\"{quartile}: {percentile} percentile of the {col_name} values is: \", quarter_value)"
   ]
  },
  {
   "cell_type": "code",
   "execution_count": 22,
   "metadata": {},
   "outputs": [],
   "source": [
    "# Calculate interquartile range\n",
    "def interquartile_range(quartile):\n",
    "    q1 = quartile[0]\n",
    "    q3 = quartile[2]\n",
    "    return q3 - q1"
   ]
  },
  {
   "cell_type": "code",
   "execution_count": 23,
   "metadata": {},
   "outputs": [],
   "source": [
    "# Limit finder\n",
    "def limit_finder(quartile, interquartile_range):\n",
    "    q1 = quartile[0]\n",
    "    q3 = quartile[2]\n",
    "\n",
    "    low = q1 - 1.5 * interquartile_range\n",
    "    up = q3 + 1.5 * interquartile_range\n",
    "\n",
    "    return low, up"
   ]
  },
  {
   "cell_type": "code",
   "execution_count": 24,
   "metadata": {},
   "outputs": [],
   "source": [
    "# Finding outliers\n",
    "def find_outliers(data, low, up):\n",
    "    outliers = []\n",
    "    for value in data:\n",
    "        if (value < low) or (value > up):\n",
    "            outliers.append(value)\n",
    "\n",
    "    return outliers"
   ]
  },
  {
   "cell_type": "code",
   "execution_count": 25,
   "metadata": {},
   "outputs": [],
   "source": [
    "# Outliers detection method\n",
    "def detect_outlier(data):\n",
    "    quartile_list = []\n",
    "    sorted_data = data.sort_values()\n",
    "\n",
    "    quarters = {\"Q1\": 25, \"Q2\": 50, \"Q3\": 75}\n",
    "    for q, p in quarters.items():\n",
    "        quarter_value = np.percentile(sorted_data, p, method = \"midpoint\")\n",
    "        quartile_list.append(quarter_value)\n",
    "        show_quartile(q, p, data.name, quarter_value)\n",
    "\n",
    "    iqr = interquartile_range(quartile_list)\n",
    "    print(\"\\nInterquartile range is: \", iqr)\n",
    "\n",
    "    low_limit, up_limit = limit_finder(quartile_list, iqr)\n",
    "    print(\"\\nLow Limit is: \", low_limit)\n",
    "    print(\"Up Limit is: \", up_limit)\n",
    "\n",
    "    outliers = find_outliers(sorted_data, low_limit, up_limit)\n",
    "    print(\"\\nOutliers in the dataset is: \", outliers)"
   ]
  },
  {
   "cell_type": "code",
   "execution_count": 26,
   "metadata": {},
   "outputs": [
    {
     "name": "stdout",
     "output_type": "stream",
     "text": [
      "Value of Q1:\n",
      "Q1: 25 percentile of the salary_in_usd values is:  62726.0\n",
      "Value of Q2:\n",
      "Q2: 50 percentile of the salary_in_usd values is:  101570.0\n",
      "Value of Q3:\n",
      "Q3: 75 percentile of the salary_in_usd values is:  150000.0\n",
      "\n",
      "Interquartile range is:  87274.0\n",
      "\n",
      "Low Limit is:  -68185.0\n",
      "Up Limit is:  280911.0\n",
      "\n",
      "Outliers in the dataset is:  [324000, 325000, 380000, 405000, 412000, 416000, 423000, 450000, 450000, 600000]\n"
     ]
    }
   ],
   "source": [
    "detect_outlier(df[\"salary_in_usd\"])"
   ]
  },
  {
   "cell_type": "markdown",
   "metadata": {},
   "source": [
    "<a id=\"4\"></a>\n",
    "## <div><p style=\"color:darkmagenta; font-family:Cursive\"><b>4. Visualizing Outliers</p></div>"
   ]
  },
  {
   "cell_type": "code",
   "execution_count": null,
   "metadata": {},
   "outputs": [],
   "source": []
  }
 ],
 "metadata": {
  "kernelspec": {
   "display_name": "Python 3.10.4 ('dsjs')",
   "language": "python",
   "name": "python3"
  },
  "language_info": {
   "codemirror_mode": {
    "name": "ipython",
    "version": 3
   },
   "file_extension": ".py",
   "mimetype": "text/x-python",
   "name": "python",
   "nbconvert_exporter": "python",
   "pygments_lexer": "ipython3",
   "version": "3.10.4"
  },
  "orig_nbformat": 4,
  "vscode": {
   "interpreter": {
    "hash": "a4250ced6f4fc3a20c09de333a8557c7b00614cf6995b2815f54482752397a1e"
   }
  }
 },
 "nbformat": 4,
 "nbformat_minor": 2
}
