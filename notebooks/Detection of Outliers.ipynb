{
 "cells": [
  {
   "cell_type": "markdown",
   "metadata": {},
   "source": [
    "<h1 style=\"color:darkmagenta; font-family:Cursive\">\n",
    "    <center>\n",
    "        <b>Detection of Outliers of Data Science Job Salary</b>\n",
    "    </center>\n",
    "</h1>"
   ]
  },
  {
   "cell_type": "markdown",
   "metadata": {},
   "source": [
    "## <div><p style=\"color:#b50264; font-family:Cursive\"><b>🎯 Notebook Goal</p></div>"
   ]
  },
  {
   "cell_type": "markdown",
   "metadata": {},
   "source": [
    "1. **Detecting the outliers** of the salary of Data Science Job."
   ]
  },
  {
   "cell_type": "markdown",
   "metadata": {},
   "source": [
    "## <div><p style=\"color:#b50264; font-family:Cursive\"><b>🏷️ Table of Contents</p></div>\n",
    "<a id=\"top\"></a>\n",
    "<div class=\"list-group\" id=\"list-tab\" role=\"tablist\">\n",
    "\n",
    "   1. [Import Necessary Libraries](#1)\n",
    "   2. [Getting Data](#2)\n",
    "   3. [Detecting Outliers](#3)\n",
    "   4. [Visualizing Outliers](#4)\n",
    "   5. [Dropping Outliers from data](#5)"
   ]
  },
  {
   "cell_type": "markdown",
   "metadata": {},
   "source": [
    "<a id=\"1\"></a>\n",
    "## <div><p style=\"color:darkmagenta; font-family:Cursive\"><b>1. Import Necessary Libraries</p></div>"
   ]
  },
  {
   "cell_type": "code",
   "execution_count": 1,
   "metadata": {},
   "outputs": [],
   "source": [
    "# data\n",
    "import pandas as pd\n",
    "import numpy as np\n",
    "\n",
    "# visualization\n",
    "import matplotlib.pyplot as plt\n",
    "import plotly.express as px\n",
    "\n",
    "# style\n",
    "%matplotlib inline"
   ]
  },
  {
   "cell_type": "markdown",
   "metadata": {},
   "source": [
    "<a id=\"2\"></a>\n",
    "## <div><p style=\"color:darkmagenta; font-family:Cursive\"><b>2. Getting Data</p></div>"
   ]
  },
  {
   "cell_type": "code",
   "execution_count": 2,
   "metadata": {},
   "outputs": [
    {
     "data": {
      "text/html": [
       "<div>\n",
       "<style scoped>\n",
       "    .dataframe tbody tr th:only-of-type {\n",
       "        vertical-align: middle;\n",
       "    }\n",
       "\n",
       "    .dataframe tbody tr th {\n",
       "        vertical-align: top;\n",
       "    }\n",
       "\n",
       "    .dataframe thead th {\n",
       "        text-align: right;\n",
       "    }\n",
       "</style>\n",
       "<table border=\"1\" class=\"dataframe\">\n",
       "  <thead>\n",
       "    <tr style=\"text-align: right;\">\n",
       "      <th></th>\n",
       "      <th>work_year</th>\n",
       "      <th>experience_level</th>\n",
       "      <th>employment_type</th>\n",
       "      <th>job_title</th>\n",
       "      <th>salary</th>\n",
       "      <th>salary_currency</th>\n",
       "      <th>salary_in_usd</th>\n",
       "      <th>employee_residence</th>\n",
       "      <th>remote_ratio</th>\n",
       "      <th>company_location</th>\n",
       "      <th>company_size</th>\n",
       "    </tr>\n",
       "  </thead>\n",
       "  <tbody>\n",
       "    <tr>\n",
       "      <th>0</th>\n",
       "      <td>2020</td>\n",
       "      <td>MI</td>\n",
       "      <td>FT</td>\n",
       "      <td>Data Scientist</td>\n",
       "      <td>70000</td>\n",
       "      <td>EUR</td>\n",
       "      <td>79833</td>\n",
       "      <td>DE</td>\n",
       "      <td>0</td>\n",
       "      <td>DE</td>\n",
       "      <td>L</td>\n",
       "    </tr>\n",
       "    <tr>\n",
       "      <th>1</th>\n",
       "      <td>2020</td>\n",
       "      <td>SE</td>\n",
       "      <td>FT</td>\n",
       "      <td>Machine Learning Scientist</td>\n",
       "      <td>260000</td>\n",
       "      <td>USD</td>\n",
       "      <td>260000</td>\n",
       "      <td>JP</td>\n",
       "      <td>0</td>\n",
       "      <td>JP</td>\n",
       "      <td>S</td>\n",
       "    </tr>\n",
       "    <tr>\n",
       "      <th>2</th>\n",
       "      <td>2020</td>\n",
       "      <td>SE</td>\n",
       "      <td>FT</td>\n",
       "      <td>Big Data Engineer</td>\n",
       "      <td>85000</td>\n",
       "      <td>GBP</td>\n",
       "      <td>109024</td>\n",
       "      <td>GB</td>\n",
       "      <td>50</td>\n",
       "      <td>GB</td>\n",
       "      <td>M</td>\n",
       "    </tr>\n",
       "  </tbody>\n",
       "</table>\n",
       "</div>"
      ],
      "text/plain": [
       "   work_year experience_level employment_type                   job_title  \\\n",
       "0       2020               MI              FT              Data Scientist   \n",
       "1       2020               SE              FT  Machine Learning Scientist   \n",
       "2       2020               SE              FT           Big Data Engineer   \n",
       "\n",
       "   salary salary_currency  salary_in_usd employee_residence  remote_ratio  \\\n",
       "0   70000             EUR          79833                 DE             0   \n",
       "1  260000             USD         260000                 JP             0   \n",
       "2   85000             GBP         109024                 GB            50   \n",
       "\n",
       "  company_location company_size  \n",
       "0               DE            L  \n",
       "1               JP            S  \n",
       "2               GB            M  "
      ]
     },
     "execution_count": 2,
     "metadata": {},
     "output_type": "execute_result"
    }
   ],
   "source": [
    "# read data and create DataFrame\n",
    "df = pd.read_csv(\"../data_given/ds_salaries.csv\", index_col=0)\n",
    "df.head(3)"
   ]
  },
  {
   "cell_type": "markdown",
   "metadata": {},
   "source": [
    "<a id=\"3\"></a>\n",
    "## <div><p style=\"color:darkmagenta; font-family:Cursive\"><b>3. Detecting Outliers</p></div>"
   ]
  },
  {
   "cell_type": "code",
   "execution_count": 3,
   "metadata": {},
   "outputs": [],
   "source": [
    "# Quartile information show\n",
    "def show_quartile(quartile, percentile, col_name, quarter_value):\n",
    "    print(\"Value of {}:\".format(quartile))\n",
    "    print(f\"{quartile}: {percentile} percentile of the {col_name} values is: \", quarter_value)"
   ]
  },
  {
   "cell_type": "code",
   "execution_count": 4,
   "metadata": {},
   "outputs": [],
   "source": [
    "# Calculate interquartile range\n",
    "def interquartile_range(quartile):\n",
    "    q1 = quartile[0]\n",
    "    q3 = quartile[2]\n",
    "    return q3 - q1"
   ]
  },
  {
   "cell_type": "code",
   "execution_count": 5,
   "metadata": {},
   "outputs": [],
   "source": [
    "# Limit finder\n",
    "def limit_finder(quartile, interquartile_range):\n",
    "    q1 = quartile[0]\n",
    "    q3 = quartile[2]\n",
    "\n",
    "    low = q1 - 1.5 * interquartile_range\n",
    "    up = q3 + 1.5 * interquartile_range\n",
    "\n",
    "    return low, up"
   ]
  },
  {
   "cell_type": "code",
   "execution_count": 6,
   "metadata": {},
   "outputs": [],
   "source": [
    "# Finding outliers\n",
    "def find_outliers(data, low, up):\n",
    "    outliers = []\n",
    "    for value in data:\n",
    "        if (value < low) or (value > up):\n",
    "            outliers.append(value)\n",
    "\n",
    "    return outliers"
   ]
  },
  {
   "cell_type": "code",
   "execution_count": 7,
   "metadata": {},
   "outputs": [],
   "source": [
    "# Outliers detection method\n",
    "def detect_outlier(data):\n",
    "    quartile_list = []\n",
    "    sorted_data = data.sort_values()\n",
    "\n",
    "    quarters = {\"Q1\": 25, \"Q2\": 50, \"Q3\": 75}\n",
    "    for q, p in quarters.items():\n",
    "        quarter_value = np.percentile(sorted_data, p, method = \"midpoint\")\n",
    "        quartile_list.append(quarter_value)\n",
    "        show_quartile(q, p, data.name, quarter_value)\n",
    "\n",
    "    iqr = interquartile_range(quartile_list)\n",
    "    print(\"\\nInterquartile range is: \", iqr)\n",
    "\n",
    "    low_limit, up_limit = limit_finder(quartile_list, iqr)\n",
    "    print(\"\\nLow Limit is: \", low_limit)\n",
    "    print(\"Up Limit is: \", up_limit)\n",
    "\n",
    "    outliers = find_outliers(sorted_data, low_limit, up_limit)\n",
    "    print(\"\\nOutliers in the dataset is: \", outliers)"
   ]
  },
  {
   "cell_type": "code",
   "execution_count": 8,
   "metadata": {},
   "outputs": [
    {
     "name": "stdout",
     "output_type": "stream",
     "text": [
      "Value of Q1:\n",
      "Q1: 25 percentile of the salary_in_usd values is:  62726.0\n",
      "Value of Q2:\n",
      "Q2: 50 percentile of the salary_in_usd values is:  101570.0\n",
      "Value of Q3:\n",
      "Q3: 75 percentile of the salary_in_usd values is:  150000.0\n",
      "\n",
      "Interquartile range is:  87274.0\n",
      "\n",
      "Low Limit is:  -68185.0\n",
      "Up Limit is:  280911.0\n",
      "\n",
      "Outliers in the dataset is:  [324000, 325000, 380000, 405000, 412000, 416000, 423000, 450000, 450000, 600000]\n"
     ]
    }
   ],
   "source": [
    "detect_outlier(df[\"salary_in_usd\"])"
   ]
  },
  {
   "cell_type": "markdown",
   "metadata": {},
   "source": [
    "<a id=\"4\"></a>\n",
    "## <div><p style=\"color:darkmagenta; font-family:Cursive\"><b>4. Visualizing Outliers</p></div>"
   ]
  },
  {
   "cell_type": "code",
   "execution_count": 9,
   "metadata": {},
   "outputs": [
    {
     "data": {
      "image/svg+xml": "<svg class=\"main-svg\" xmlns=\"http://www.w3.org/2000/svg\" xmlns:xlink=\"http://www.w3.org/1999/xlink\" width=\"1000\" height=\"500\" style=\"\" viewBox=\"0 0 1000 500\"><rect x=\"0\" y=\"0\" width=\"1000\" height=\"500\" style=\"fill: rgb(17, 17, 17); fill-opacity: 1;\"/><defs id=\"defs-f38f2c\"><g class=\"clips\"><clipPath id=\"clipf38f2cxyplot\" class=\"plotclip\"><rect width=\"840\" height=\"320\"/></clipPath><clipPath class=\"axesclip\" id=\"clipf38f2cx\"><rect x=\"80\" y=\"0\" width=\"840\" height=\"500\"/></clipPath><clipPath class=\"axesclip\" id=\"clipf38f2cy\"><rect x=\"0\" y=\"100\" width=\"1000\" height=\"320\"/></clipPath><clipPath class=\"axesclip\" id=\"clipf38f2cxy\"><rect x=\"80\" y=\"100\" width=\"840\" height=\"320\"/></clipPath></g><g class=\"gradients\"/><g class=\"patterns\"/></defs><g class=\"bglayer\"/><g class=\"layer-below\"><g class=\"imagelayer\"/><g class=\"shapelayer\"/></g><g class=\"cartesianlayer\"><g class=\"subplot xy\"><g class=\"layer-subplot\"><g class=\"shapelayer\"/><g class=\"imagelayer\"/></g><g class=\"minor-gridlayer\"><g class=\"x\"/><g class=\"y\"/></g><g class=\"gridlayer\"><g class=\"x\"/><g class=\"y\"><path class=\"ygrid crisp\" transform=\"translate(0,357.15)\" d=\"M80,0h840\" style=\"stroke: rgb(40, 52, 66); stroke-opacity: 1; stroke-width: 1px;\"/><path class=\"ygrid crisp\" transform=\"translate(0,308.91999999999996)\" d=\"M80,0h840\" style=\"stroke: rgb(40, 52, 66); stroke-opacity: 1; stroke-width: 1px;\"/><path class=\"ygrid crisp\" transform=\"translate(0,260.69)\" d=\"M80,0h840\" style=\"stroke: rgb(40, 52, 66); stroke-opacity: 1; stroke-width: 1px;\"/><path class=\"ygrid crisp\" transform=\"translate(0,212.45999999999998)\" d=\"M80,0h840\" style=\"stroke: rgb(40, 52, 66); stroke-opacity: 1; stroke-width: 1px;\"/><path class=\"ygrid crisp\" transform=\"translate(0,164.23000000000002)\" d=\"M80,0h840\" style=\"stroke: rgb(40, 52, 66); stroke-opacity: 1; stroke-width: 1px;\"/><path class=\"ygrid crisp\" transform=\"translate(0,116)\" d=\"M80,0h840\" style=\"stroke: rgb(40, 52, 66); stroke-opacity: 1; stroke-width: 1px;\"/></g></g><g class=\"zerolinelayer\"><path class=\"yzl zl crisp\" transform=\"translate(0,405.38)\" d=\"M80,0h840\" style=\"stroke: rgb(40, 52, 66); stroke-opacity: 1; stroke-width: 2px;\"/></g><path class=\"xlines-below\"/><path class=\"ylines-below\"/><g class=\"overlines-below\"/><g class=\"xaxislayer-below\"/><g class=\"yaxislayer-below\"/><g class=\"overaxes-below\"/><g class=\"plot\" transform=\"translate(80,100)\" clip-path=\"url(#clipf38f2cxyplot)\"><g class=\"boxlayer mlayer\"><g class=\"trace boxes\" style=\"opacity: 1;\"><path class=\"box\" d=\"M214.2,256.39H625.8M214.2,275.13H625.8V233.03H214.2ZM420,275.13V304M420,233.03V172.26M317.1,304H522.9M317.1,172.26H522.9\" style=\"vector-effect: non-scaling-stroke; stroke-width: 2px; stroke: rgb(99, 110, 250); stroke-opacity: 1; fill: rgb(99, 110, 250); fill-opacity: 0.5;\"/><g class=\"points\"><path class=\"point\" transform=\"translate(420,149.11)\" d=\"M3,0A3,3 0 1,1 0,-3A3,3 0 0,1 3,0Z\" style=\"opacity: 1; stroke-width: 0px; fill: rgb(99, 110, 250); fill-opacity: 1;\"/><path class=\"point\" transform=\"translate(420,148.63)\" d=\"M3,0A3,3 0 1,1 0,-3A3,3 0 0,1 3,0Z\" style=\"opacity: 1; stroke-width: 0px; fill: rgb(99, 110, 250); fill-opacity: 1;\"/><path class=\"point\" transform=\"translate(420,122.11)\" d=\"M3,0A3,3 0 1,1 0,-3A3,3 0 0,1 3,0Z\" style=\"opacity: 1; stroke-width: 0px; fill: rgb(99, 110, 250); fill-opacity: 1;\"/><path class=\"point\" transform=\"translate(420,110.05)\" d=\"M3,0A3,3 0 1,1 0,-3A3,3 0 0,1 3,0Z\" style=\"opacity: 1; stroke-width: 0px; fill: rgb(99, 110, 250); fill-opacity: 1;\"/><path class=\"point\" transform=\"translate(420,106.67)\" d=\"M3,0A3,3 0 1,1 0,-3A3,3 0 0,1 3,0Z\" style=\"opacity: 1; stroke-width: 0px; fill: rgb(99, 110, 250); fill-opacity: 1;\"/><path class=\"point\" transform=\"translate(420,104.74)\" d=\"M3,0A3,3 0 1,1 0,-3A3,3 0 0,1 3,0Z\" style=\"opacity: 1; stroke-width: 0px; fill: rgb(99, 110, 250); fill-opacity: 1;\"/><path class=\"point\" transform=\"translate(420,101.37)\" d=\"M3,0A3,3 0 1,1 0,-3A3,3 0 0,1 3,0Z\" style=\"opacity: 1; stroke-width: 0px; fill: rgb(99, 110, 250); fill-opacity: 1;\"/><path class=\"point\" transform=\"translate(420,88.34)\" d=\"M3,0A3,3 0 1,1 0,-3A3,3 0 0,1 3,0Z\" style=\"opacity: 1; stroke-width: 0px; fill: rgb(99, 110, 250); fill-opacity: 1;\"/><path class=\"point\" transform=\"translate(420,88.34)\" d=\"M3,0A3,3 0 1,1 0,-3A3,3 0 0,1 3,0Z\" style=\"opacity: 1; stroke-width: 0px; fill: rgb(99, 110, 250); fill-opacity: 1;\"/><path class=\"point\" transform=\"translate(420,16)\" d=\"M3,0A3,3 0 1,1 0,-3A3,3 0 0,1 3,0Z\" style=\"opacity: 1; stroke-width: 0px; fill: rgb(99, 110, 250); fill-opacity: 1;\"/></g></g></g></g><g class=\"overplot\"/><path class=\"xlines-above crisp\" d=\"M0,0\" style=\"fill: none;\"/><path class=\"ylines-above crisp\" d=\"M0,0\" style=\"fill: none;\"/><g class=\"overlines-above\"/><g class=\"xaxislayer-above\"><g class=\"xtick\"><text text-anchor=\"middle\" x=\"0\" y=\"433\" transform=\"translate(500,0)\" style=\"font-family: 'Open Sans', verdana, arial, sans-serif; font-size: 12px; fill: rgb(242, 245, 250); fill-opacity: 1; white-space: pre; opacity: 1;\"> </text></g></g><g class=\"yaxislayer-above\"><g class=\"ytick\"><text text-anchor=\"end\" x=\"79\" y=\"4.199999999999999\" transform=\"translate(0,405.38)\" style=\"font-family: 'Open Sans', verdana, arial, sans-serif; font-size: 12px; fill: rgb(242, 245, 250); fill-opacity: 1; white-space: pre; opacity: 1;\">0</text></g><g class=\"ytick\"><text text-anchor=\"end\" x=\"79\" y=\"4.199999999999999\" style=\"font-family: 'Open Sans', verdana, arial, sans-serif; font-size: 12px; fill: rgb(242, 245, 250); fill-opacity: 1; white-space: pre; opacity: 1;\" transform=\"translate(0,357.15)\">100k</text></g><g class=\"ytick\"><text text-anchor=\"end\" x=\"79\" y=\"4.199999999999999\" style=\"font-family: 'Open Sans', verdana, arial, sans-serif; font-size: 12px; fill: rgb(242, 245, 250); fill-opacity: 1; white-space: pre; opacity: 1;\" transform=\"translate(0,308.91999999999996)\">200k</text></g><g class=\"ytick\"><text text-anchor=\"end\" x=\"79\" y=\"4.199999999999999\" style=\"font-family: 'Open Sans', verdana, arial, sans-serif; font-size: 12px; fill: rgb(242, 245, 250); fill-opacity: 1; white-space: pre; opacity: 1;\" transform=\"translate(0,260.69)\">300k</text></g><g class=\"ytick\"><text text-anchor=\"end\" x=\"79\" y=\"4.199999999999999\" style=\"font-family: 'Open Sans', verdana, arial, sans-serif; font-size: 12px; fill: rgb(242, 245, 250); fill-opacity: 1; white-space: pre; opacity: 1;\" transform=\"translate(0,212.45999999999998)\">400k</text></g><g class=\"ytick\"><text text-anchor=\"end\" x=\"79\" y=\"4.199999999999999\" style=\"font-family: 'Open Sans', verdana, arial, sans-serif; font-size: 12px; fill: rgb(242, 245, 250); fill-opacity: 1; white-space: pre; opacity: 1;\" transform=\"translate(0,164.23000000000002)\">500k</text></g><g class=\"ytick\"><text text-anchor=\"end\" x=\"79\" y=\"4.199999999999999\" style=\"font-family: 'Open Sans', verdana, arial, sans-serif; font-size: 12px; fill: rgb(242, 245, 250); fill-opacity: 1; white-space: pre; opacity: 1;\" transform=\"translate(0,116)\">600k</text></g></g><g class=\"overaxes-above\"/></g></g><g class=\"polarlayer\"/><g class=\"smithlayer\"/><g class=\"ternarylayer\"/><g class=\"geolayer\"/><g class=\"funnelarealayer\"/><g class=\"pielayer\"/><g class=\"iciclelayer\"/><g class=\"treemaplayer\"/><g class=\"sunburstlayer\"/><g class=\"glimages\"/><defs id=\"topdefs-f38f2c\"><g class=\"clips\"/></defs><g class=\"layer-above\"><g class=\"imagelayer\"/><g class=\"shapelayer\"/></g><g class=\"infolayer\"><g class=\"g-gtitle\"><text class=\"gtitle\" x=\"50\" y=\"50\" text-anchor=\"start\" dy=\"0em\" style=\"font-family: 'Open Sans', verdana, arial, sans-serif; font-size: 17px; fill: rgb(242, 245, 250); opacity: 1; font-weight: normal; white-space: pre;\">Outliers of DS Job Salary</text></g><g class=\"g-xtitle\"/><g class=\"g-ytitle\"><text class=\"ytitle\" transform=\"rotate(-90,26.309375000000003,260)\" x=\"26.309375000000003\" y=\"260\" text-anchor=\"middle\" style=\"font-family: 'Open Sans', verdana, arial, sans-serif; font-size: 14px; fill: rgb(242, 245, 250); opacity: 1; font-weight: normal; white-space: pre;\">Salaries</text></g></g></svg>"
     },
     "metadata": {},
     "output_type": "display_data"
    }
   ],
   "source": [
    "# Plotting Outliers\n",
    "fig = px.box(y = df[\"salary_in_usd\"],\n",
    "             width = 1000,\n",
    "             template = \"plotly_dark\",\n",
    "             title = \"Outliers of DS Job Salary\")\n",
    "\n",
    "fig.update_layout(yaxis_title = \"Salaries\")\n",
    "\n",
    "fig.show('svg')\n"
   ]
  },
  {
   "cell_type": "markdown",
   "metadata": {},
   "source": [
    "<a id=\"5\"></a>\n",
    "## <div><p style=\"color:darkmagenta; font-family:Cursive\"><b>5. Dropping Outliers from data</p></div>"
   ]
  },
  {
   "cell_type": "code",
   "execution_count": 10,
   "metadata": {},
   "outputs": [
    {
     "name": "stdout",
     "output_type": "stream",
     "text": [
      "Minimum Salary of DS Job:  2859\n",
      "Maximum Salary of DS Job:  276000\n"
     ]
    }
   ],
   "source": [
    "# Drop outliers\n",
    "low_limit = -68185.0\n",
    "up_limit = 280911.0\n",
    "\n",
    "clean_data = df[(df[\"salary_in_usd\"] < up_limit) & (df[\"salary_in_usd\"] > low_limit)]\n",
    "print(\"Minimum Salary of DS Job: \", clean_data[\"salary_in_usd\"].min())\n",
    "print(\"Maximum Salary of DS Job: \", clean_data[\"salary_in_usd\"].max())"
   ]
  },
  {
   "cell_type": "markdown",
   "metadata": {},
   "source": [
    "<div style=\"color:DarkSlateGray;text-align:center;border-bottom:2px dotted gray; border-left: 2px dotted gray;border-right: 2px dotted gray\">\n",
    "    <h4>Note</h4>\n",
    "    <p style=\"text-align:center;\">\n",
    "        <span style='font-weight: bold'>Minimum Salary</span> of DS Job is <span style='font-weight: bold'>2859</span>.\n",
    "        <br>\n",
    "        <span style='font-weight: bold'>Maximum Salary</span> of DS Job is <span style='font-weight: bold'>276000</span>.\n",
    "    </p>\n",
    "</div>"
   ]
  }
 ],
 "metadata": {
  "kernelspec": {
   "display_name": "Python 3.10.4 ('dsjs')",
   "language": "python",
   "name": "python3"
  },
  "language_info": {
   "codemirror_mode": {
    "name": "ipython",
    "version": 3
   },
   "file_extension": ".py",
   "mimetype": "text/x-python",
   "name": "python",
   "nbconvert_exporter": "python",
   "pygments_lexer": "ipython3",
   "version": "3.10.4"
  },
  "orig_nbformat": 4,
  "vscode": {
   "interpreter": {
    "hash": "a4250ced6f4fc3a20c09de333a8557c7b00614cf6995b2815f54482752397a1e"
   }
  }
 },
 "nbformat": 4,
 "nbformat_minor": 2
}
