{
 "cells": [
  {
   "cell_type": "markdown",
   "metadata": {
    "pycharm": {
     "name": "#%% md\n"
    }
   },
   "source": [
    "<h1 style=\"color:darkmagenta; font-family:Cursive\">\n",
    "    <center>\n",
    "        <b>Exploratory Data Analysis (EDA)\n",
    "        <b>on\n",
    "        <b>Data Science Job Salary\n",
    "    </center>\n",
    "</h1>"
   ]
  },
  {
   "cell_type": "markdown",
   "metadata": {
    "pycharm": {
     "name": "#%% md\n"
    }
   },
   "source": [
    "## <div><p style=\"color:#b50264; font-family:Cursive\"><b>🎯 Notebook Goal</p></div>\n"
   ]
  },
  {
   "cell_type": "markdown",
   "metadata": {
    "pycharm": {
     "name": "#%% md\n"
    }
   },
   "source": [
    "1. **Explore every feature** in the dataset. 📊\n",
    "2. "
   ]
  },
  {
   "cell_type": "markdown",
   "metadata": {
    "pycharm": {
     "name": "#%% md\n"
    }
   },
   "source": [
    "## <div><p style=\"color:#b50264; font-family:Cursive\"><b>📁 About Dataset</p></div>"
   ]
  },
  {
   "cell_type": "markdown",
   "metadata": {
    "pycharm": {
     "name": "#%% md\n"
    }
   },
   "source": [
    "> Dataset Link: [**Data Science Job Salaries**](https://www.kaggle.com/datasets/ruchi798/data-science-job-salaries)\n",
    ">\n",
    "> This dataset contains **<span style=\"color:green\">11 columns</span>**.\n",
    "\n",
    "1. **work_year**: The year the salary was paid.\n",
    "2. **experience_level**: The experience level in the job during the year with the following possible values -\n",
    "\n",
    "                            1. EN = Entry-level / Junior\n",
    "                            2. MI = Mid-level / Intermediate\n",
    "                            3. SE = Senior-level / Expert\n",
    "                            4. EX = Executive-level / Director\n",
    "\n",
    "3. **employment_type**: The type of employment for the role -\n",
    "\n",
    "                            1. PT = Part-time\n",
    "                            2. FT = Full-time\n",
    "                            3. CT = Contract\n",
    "                            4. FL = Freelance\n",
    "\n",
    "4. **job_title**: The role worked in during the year.\n",
    "5. **salary**: The total gross salary amount paid.\n",
    "6. **salary_currency**: The currency of the salary paid as an [ISO 4217 currency code](https://en.wikipedia.org/wiki/ISO_4217)\n",
    "7. **salary_in_usd**: The salary in USD (FX rate divided by avg. USD rate for the respective year via fxdata.foorilla.com).\n",
    "8. **employee_residence**: Employee's primary country of residence in during the work year as an [ISO 3166 country code](https://en.wikipedia.org/wiki/List_of_ISO_3166_country_codes#Current_ISO_3166_country_codes)(Alpha-2 code).\n",
    "9. **remote_ratio**: The overall amount of work done remotely, possible values are as follows -\n",
    "\n",
    "                            1. 0   = No remote work (less than 20%)\n",
    "                            2. 50  = Partially remote\n",
    "                            3. 100 = Fully remote (more than 80%)\n",
    "\n",
    "10. **company_location**: The country of the employer's main office or contracting branch as an [ISO 3166 country code](https://en.wikipedia.org/wiki/List_of_ISO_3166_country_codes#Current_ISO_3166_country_codes)(Alpha-2 code).\n",
    "\n",
    "11. **company_size**: The average number of people that worked for the company during the year -\n",
    "\n",
    "                            1. S = less than 50 employees (small)\n",
    "                            2. M = 50 to 250 employees (medium)\n",
    "                            3. L = more than 250 employees (large)\n"
   ]
  },
  {
   "cell_type": "markdown",
   "metadata": {
    "pycharm": {
     "name": "#%% md\n"
    }
   },
   "source": [
    "## <div><p style=\"color:#b50264; font-family:Cursive\"><b>🏷️ Table of Contents</p></div>\n",
    "<a id=\"top\"></a>\n",
    "<div class=\"list-group\" id=\"list-tab\" role=\"tablist\">\n",
    "\n",
    "   1. [Import Necessary Libraries](#1)\n",
    "   2. [Dataset](#2)\n",
    "      - 2.1. [Getting Dataset](#2.1)\n",
    "      - 2.2. [Knowing Dataset](#2.2)\n",
    "      - 2.3. [Replacing some of the values to understand the dataset clearly](#2.3)\n",
    "   3. [Univariate Analysis](#3)\n",
    "      - 3.1. [Categorical Columns](#3.1)\n",
    "         - 3.1.1 [Work Year](#3.1.1)\n",
    "         - 3.1.2 [Experience Level](#3.1.2)\n",
    "         - 3.1.3 [Employment Type](#3.1.3)\n",
    "         - 3.1.4 [Job Titles](#3.1.4)\n",
    "         - 3.1.5 [Employee Residence](#3.1.5)\n",
    "         - 3.1.6 [Remote Rate](#3.1.6)\n",
    "         - 3.1.7 [Company Location](#3.1.7)\n",
    "         - 3.1.8 [Company Size](#3.1.8)\n",
    "      - 3.2. [Numerical Columns](#3.2)\n",
    "         - 3.2.1 [Salary in USD](#3.2.1)"
   ]
  },
  {
   "cell_type": "markdown",
   "metadata": {
    "pycharm": {
     "name": "#%% md\n"
    }
   },
   "source": [
    "<a id=\"1\"></a>\n",
    "## <div><p style=\"color:darkmagenta; font-family:Cursive\"><b>1. Import Necessary Libraries</p></div>"
   ]
  },
  {
   "cell_type": "code",
   "execution_count": 1,
   "metadata": {
    "pycharm": {
     "name": "#%%\n"
    }
   },
   "outputs": [],
   "source": [
    "# data\n",
    "import pandas as pd\n",
    "import country_converter as coco\n",
    "\n",
    "# visualization\n",
    "import matplotlib.pyplot as plt\n",
    "import missingno as msno\n",
    "import plotly.express as px\n",
    "\n",
    "# style\n",
    "from numpy import unique\n",
    "%matplotlib inline"
   ]
  },
  {
   "cell_type": "markdown",
   "metadata": {
    "pycharm": {
     "name": "#%% md\n"
    }
   },
   "source": [
    "<a id=\"2\"></a>\n",
    "## <div><p style=\"color:darkmagenta; font-family:Cursive\"><b>2. Dataset</p></div>"
   ]
  },
  {
   "cell_type": "markdown",
   "metadata": {
    "pycharm": {
     "name": "#%% md\n"
    }
   },
   "source": [
    "<a id=\"2.1\"></a>\n",
    "### <div><p style=\"color:#b50264; font-family:Cursive\"><b>2.1. Getting Dataset</p></div>"
   ]
  },
  {
   "cell_type": "code",
   "execution_count": 2,
   "metadata": {
    "pycharm": {
     "name": "#%%\n"
    }
   },
   "outputs": [],
   "source": [
    "# read data and create DataFrame\n",
    "df = pd.read_csv(\"../data_given/ds_salaries.csv\", index_col=0)"
   ]
  },
  {
   "cell_type": "markdown",
   "metadata": {
    "pycharm": {
     "name": "#%% md\n"
    }
   },
   "source": [
    "<a id=\"2.2\"></a>\n",
    "### <div><p style=\"color:#b50264; font-family:Cursive\"><b>2.2. Knowing Dataset</p></div>"
   ]
  },
  {
   "cell_type": "code",
   "execution_count": 3,
   "metadata": {
    "pycharm": {
     "name": "#%%\n"
    }
   },
   "outputs": [
    {
     "name": "stdout",
     "output_type": "stream",
     "text": [
      "Shape of the dataset:  (607, 11)\n",
      "First 5 columns of the dataset: \n"
     ]
    },
    {
     "data": {
      "text/html": [
       "<div>\n",
       "<style scoped>\n",
       "    .dataframe tbody tr th:only-of-type {\n",
       "        vertical-align: middle;\n",
       "    }\n",
       "\n",
       "    .dataframe tbody tr th {\n",
       "        vertical-align: top;\n",
       "    }\n",
       "\n",
       "    .dataframe thead th {\n",
       "        text-align: right;\n",
       "    }\n",
       "</style>\n",
       "<table border=\"1\" class=\"dataframe\">\n",
       "  <thead>\n",
       "    <tr style=\"text-align: right;\">\n",
       "      <th></th>\n",
       "      <th>work_year</th>\n",
       "      <th>experience_level</th>\n",
       "      <th>employment_type</th>\n",
       "      <th>job_title</th>\n",
       "      <th>salary</th>\n",
       "      <th>salary_currency</th>\n",
       "      <th>salary_in_usd</th>\n",
       "      <th>employee_residence</th>\n",
       "      <th>remote_ratio</th>\n",
       "      <th>company_location</th>\n",
       "      <th>company_size</th>\n",
       "    </tr>\n",
       "  </thead>\n",
       "  <tbody>\n",
       "    <tr>\n",
       "      <th>0</th>\n",
       "      <td>2020</td>\n",
       "      <td>MI</td>\n",
       "      <td>FT</td>\n",
       "      <td>Data Scientist</td>\n",
       "      <td>70000</td>\n",
       "      <td>EUR</td>\n",
       "      <td>79833</td>\n",
       "      <td>DE</td>\n",
       "      <td>0</td>\n",
       "      <td>DE</td>\n",
       "      <td>L</td>\n",
       "    </tr>\n",
       "    <tr>\n",
       "      <th>1</th>\n",
       "      <td>2020</td>\n",
       "      <td>SE</td>\n",
       "      <td>FT</td>\n",
       "      <td>Machine Learning Scientist</td>\n",
       "      <td>260000</td>\n",
       "      <td>USD</td>\n",
       "      <td>260000</td>\n",
       "      <td>JP</td>\n",
       "      <td>0</td>\n",
       "      <td>JP</td>\n",
       "      <td>S</td>\n",
       "    </tr>\n",
       "    <tr>\n",
       "      <th>2</th>\n",
       "      <td>2020</td>\n",
       "      <td>SE</td>\n",
       "      <td>FT</td>\n",
       "      <td>Big Data Engineer</td>\n",
       "      <td>85000</td>\n",
       "      <td>GBP</td>\n",
       "      <td>109024</td>\n",
       "      <td>GB</td>\n",
       "      <td>50</td>\n",
       "      <td>GB</td>\n",
       "      <td>M</td>\n",
       "    </tr>\n",
       "    <tr>\n",
       "      <th>3</th>\n",
       "      <td>2020</td>\n",
       "      <td>MI</td>\n",
       "      <td>FT</td>\n",
       "      <td>Product Data Analyst</td>\n",
       "      <td>20000</td>\n",
       "      <td>USD</td>\n",
       "      <td>20000</td>\n",
       "      <td>HN</td>\n",
       "      <td>0</td>\n",
       "      <td>HN</td>\n",
       "      <td>S</td>\n",
       "    </tr>\n",
       "    <tr>\n",
       "      <th>4</th>\n",
       "      <td>2020</td>\n",
       "      <td>SE</td>\n",
       "      <td>FT</td>\n",
       "      <td>Machine Learning Engineer</td>\n",
       "      <td>150000</td>\n",
       "      <td>USD</td>\n",
       "      <td>150000</td>\n",
       "      <td>US</td>\n",
       "      <td>50</td>\n",
       "      <td>US</td>\n",
       "      <td>L</td>\n",
       "    </tr>\n",
       "  </tbody>\n",
       "</table>\n",
       "</div>"
      ],
      "text/plain": [
       "   work_year experience_level employment_type                   job_title  \\\n",
       "0       2020               MI              FT              Data Scientist   \n",
       "1       2020               SE              FT  Machine Learning Scientist   \n",
       "2       2020               SE              FT           Big Data Engineer   \n",
       "3       2020               MI              FT        Product Data Analyst   \n",
       "4       2020               SE              FT   Machine Learning Engineer   \n",
       "\n",
       "   salary salary_currency  salary_in_usd employee_residence  remote_ratio  \\\n",
       "0   70000             EUR          79833                 DE             0   \n",
       "1  260000             USD         260000                 JP             0   \n",
       "2   85000             GBP         109024                 GB            50   \n",
       "3   20000             USD          20000                 HN             0   \n",
       "4  150000             USD         150000                 US            50   \n",
       "\n",
       "  company_location company_size  \n",
       "0               DE            L  \n",
       "1               JP            S  \n",
       "2               GB            M  \n",
       "3               HN            S  \n",
       "4               US            L  "
      ]
     },
     "execution_count": 3,
     "metadata": {},
     "output_type": "execute_result"
    }
   ],
   "source": [
    "# shape of the dataset\n",
    "print(\"Shape of the dataset: \", df.shape)\n",
    "# show first 5 columns\n",
    "print(\"First 5 columns of the dataset: \")\n",
    "df.head()"
   ]
  },
  {
   "cell_type": "markdown",
   "metadata": {
    "pycharm": {
     "name": "#%% md\n"
    }
   },
   "source": [
    "<div style=\"color:DarkSlateGray;text-align:center;border-bottom:2px dotted gray; border-left: 2px dotted gray;border-right: 2px dotted gray\">\n",
    "    <h4>Note</h4>\n",
    "    <p style=\"text-align:center;\">\n",
    "        The dataset has 11 columns with 607 rows.\n",
    "    </p>\n",
    "</div>"
   ]
  },
  {
   "cell_type": "code",
   "execution_count": 4,
   "metadata": {
    "pycharm": {
     "name": "#%%\n"
    }
   },
   "outputs": [
    {
     "name": "stdout",
     "output_type": "stream",
     "text": [
      "Total NULL values: 0\n",
      "\n",
      "Individual columns missing values: \n",
      "work_year             0\n",
      "experience_level      0\n",
      "employment_type       0\n",
      "job_title             0\n",
      "salary                0\n",
      "salary_currency       0\n",
      "salary_in_usd         0\n",
      "employee_residence    0\n",
      "remote_ratio          0\n",
      "company_location      0\n",
      "company_size          0\n",
      "dtype: int64\n"
     ]
    }
   ],
   "source": [
    "# check missing values in the columns\n",
    "print(f\"Total NULL values: {df.isnull().sum().sum()}\\n\")\n",
    "print(\"Individual columns missing values: \")\n",
    "print(df.isnull().sum())"
   ]
  },
  {
   "cell_type": "code",
   "execution_count": 5,
   "metadata": {
    "pycharm": {
     "name": "#%%\n"
    }
   },
   "outputs": [
    {
     "data": {
      "image/png": "[encoded data removed]",
      "text/plain": [
       "<Figure size 1800x720 with 2 Axes>"
      ]
     },
     "metadata": {
      "needs_background": "light"
     },
     "output_type": "display_data"
    },
    {
     "data": {
      "text/plain": [
       "<Figure size 360x360 with 0 Axes>"
      ]
     },
     "metadata": {},
     "output_type": "display_data"
    }
   ],
   "source": [
    "# visualization of missing values\n",
    "msno.matrix(df)\n",
    "plt.title('Distribution of Missing Values', fontsize=20)\n",
    "plt.figure(figsize=(5,5))\n",
    "plt.show()"
   ]
  },
  {
   "cell_type": "markdown",
   "metadata": {
    "pycharm": {
     "name": "#%% md\n"
    }
   },
   "source": [
    "<div style=\"color:DarkSlateGray;text-align:center;border-bottom:2px dotted gray; border-left: 2px dotted gray;border-right: 2px dotted gray\">\n",
    "    <h4>Note</h4>\n",
    "    <p style=\"text-align:center;\">\n",
    "        There's <span style='font-weight: bold'>no missing</span> values in the dataset.\n",
    "    </p>\n",
    "</div>"
   ]
  },
  {
   "cell_type": "code",
   "execution_count": 6,
   "metadata": {
    "pycharm": {
     "name": "#%%\n"
    }
   },
   "outputs": [
    {
     "name": "stdout",
     "output_type": "stream",
     "text": [
      "Data type of all the columns: \n"
     ]
    },
    {
     "data": {
      "text/plain": [
       "work_year              int64\n",
       "experience_level      object\n",
       "employment_type       object\n",
       "job_title             object\n",
       "salary                 int64\n",
       "salary_currency       object\n",
       "salary_in_usd          int64\n",
       "employee_residence    object\n",
       "remote_ratio           int64\n",
       "company_location      object\n",
       "company_size          object\n",
       "dtype: object"
      ]
     },
     "execution_count": 6,
     "metadata": {},
     "output_type": "execute_result"
    }
   ],
   "source": [
    "# data type of all the columns\n",
    "print(\"Data type of all the columns: \")\n",
    "df.dtypes"
   ]
  },
  {
   "cell_type": "code",
   "execution_count": 7,
   "metadata": {
    "pycharm": {
     "name": "#%%\n"
    }
   },
   "outputs": [
    {
     "data": {
      "text/plain": [
       "work_year               3\n",
       "experience_level        4\n",
       "employment_type         4\n",
       "job_title              50\n",
       "salary                272\n",
       "salary_currency        17\n",
       "salary_in_usd         369\n",
       "employee_residence     57\n",
       "remote_ratio            3\n",
       "company_location       50\n",
       "company_size            3\n",
       "dtype: int64"
      ]
     },
     "execution_count": 7,
     "metadata": {},
     "output_type": "execute_result"
    }
   ],
   "source": [
    "# unique values in the dataset\n",
    "df.nunique()"
   ]
  },
  {
   "cell_type": "code",
   "execution_count": 8,
   "metadata": {
    "pycharm": {
     "name": "#%%\n"
    }
   },
   "outputs": [
    {
     "data": {
      "image/png": "[encoded data removed]",
      "text/plain": [
       "<Figure size 432x288 with 1 Axes>"
      ]
     },
     "metadata": {
      "needs_background": "light"
     },
     "output_type": "display_data"
    },
    {
     "data": {
      "text/plain": [
       "<Figure size 360x360 with 0 Axes>"
      ]
     },
     "metadata": {},
     "output_type": "display_data"
    }
   ],
   "source": [
    "df.nunique().plot.barh()\n",
    "plt.title('Unique values of the columns', fontsize=15)\n",
    "plt.ylabel('Columns')\n",
    "plt.xlabel('Count of unique values')\n",
    "plt.figure(figsize=(5,5))\n",
    "plt.show()"
   ]
  },
  {
   "cell_type": "code",
   "execution_count": 9,
   "metadata": {
    "pycharm": {
     "name": "#%%\n"
    }
   },
   "outputs": [
    {
     "name": "stdout",
     "output_type": "stream",
     "text": [
      "Number of Numerical Columns:  2\n",
      "Numerical Columns:  ['salary', 'salary_in_usd']\n",
      "\n",
      "Number of Categorical Columns:  9\n",
      "Categorical Columns:  ['work_year', 'experience_level', 'employment_type', 'job_title', 'salary_currency', 'employee_residence', 'remote_ratio', 'company_location', 'company_size']\n"
     ]
    }
   ],
   "source": [
    "categorical_columns = []\n",
    "numerical_columns = []\n",
    "\n",
    "for col in df.columns:\n",
    "    categorical_columns.append(col) if df[col].nunique() < 60 else numerical_columns.append(col)\n",
    "\n",
    "print(\"Number of Numerical Columns: \", len(numerical_columns))\n",
    "print(\"Numerical Columns: \", numerical_columns)\n",
    "print(\"\\nNumber of Categorical Columns: \", len(categorical_columns))\n",
    "print(\"Categorical Columns: \", categorical_columns)"
   ]
  },
  {
   "cell_type": "markdown",
   "metadata": {
    "pycharm": {
     "name": "#%% md\n"
    }
   },
   "source": [
    "<div style=\"color:DarkSlateGray;text-align:center;border-bottom:2px dotted gray; border-left: 2px dotted gray;border-right: 2px dotted gray\">\n",
    "    <h4>Note</h4>\n",
    "    <p style=\"text-align:center;\">\n",
    "        - <span style='font-weight: bold'>Total numerical columns is 2:</span> salary, salary_in_usd.\n",
    "        <br>\n",
    "        <br>\n",
    "        - <span style='font-weight: bold'>Total categorical columns is 9:</span> work_year, experience_level, employment_type, job_title, salary_currency, employee_residence, remote_ratio, company_location, company_size.\n",
    "    </p>\n",
    "</div>"
   ]
  },
  {
   "cell_type": "markdown",
   "metadata": {
    "pycharm": {
     "name": "#%% md\n"
    }
   },
   "source": [
    "<a id=\"2.3\"></a>\n",
    "### <div><p style=\"color:#b50264; font-family:Cursive\"><b>2.3. Replacing some of the values to understand the dataset clearly</p></div>"
   ]
  },
  {
   "cell_type": "code",
   "execution_count": 10,
   "metadata": {
    "pycharm": {
     "name": "#%%\n"
    }
   },
   "outputs": [],
   "source": [
    "# Converting country codes to country names of employee_residence\n",
    "residence_country_list = coco.convert(names=df['employee_residence'], to=\"name_short\")\n",
    "df['employee_residence'] = residence_country_list"
   ]
  },
  {
   "cell_type": "code",
   "execution_count": 11,
   "metadata": {},
   "outputs": [
    {
     "name": "stdout",
     "output_type": "stream",
     "text": [
      "First 5 employee residence:\n"
     ]
    },
    {
     "data": {
      "text/plain": [
       "0           Germany\n",
       "1             Japan\n",
       "2    United Kingdom\n",
       "3          Honduras\n",
       "4     United States\n",
       "Name: employee_residence, dtype: object"
      ]
     },
     "execution_count": 11,
     "metadata": {},
     "output_type": "execute_result"
    }
   ],
   "source": [
    "print(\"First 5 employee residence:\")\n",
    "df['employee_residence'][:5]"
   ]
  },
  {
   "cell_type": "code",
   "execution_count": 12,
   "metadata": {},
   "outputs": [],
   "source": [
    "# Converting country codes to country names of company_location\n",
    "company_country_list = coco.convert(names=df['company_location'], to=\"name_short\")\n",
    "df['company_location'] = company_country_list"
   ]
  },
  {
   "cell_type": "code",
   "execution_count": 13,
   "metadata": {},
   "outputs": [
    {
     "name": "stdout",
     "output_type": "stream",
     "text": [
      "First 5 company location:\n"
     ]
    },
    {
     "data": {
      "text/plain": [
       "0           Germany\n",
       "1             Japan\n",
       "2    United Kingdom\n",
       "3          Honduras\n",
       "4     United States\n",
       "Name: company_location, dtype: object"
      ]
     },
     "execution_count": 13,
     "metadata": {},
     "output_type": "execute_result"
    }
   ],
   "source": [
    "print(\"First 5 company location:\")\n",
    "df['company_location'][:5]"
   ]
  },
  {
   "cell_type": "code",
   "execution_count": 14,
   "metadata": {},
   "outputs": [],
   "source": [
    "# Replacing remote_ratio into understandable formate\n",
    "df['remote_ratio'].replace([100,50,0], ['Remote', 'Hybrid' ,'On-site'], inplace = True)"
   ]
  },
  {
   "cell_type": "code",
   "execution_count": 15,
   "metadata": {},
   "outputs": [
    {
     "name": "stdout",
     "output_type": "stream",
     "text": [
      "First 5 remote:\n"
     ]
    },
    {
     "data": {
      "text/plain": [
       "0    On-site\n",
       "1    On-site\n",
       "2     Hybrid\n",
       "3    On-site\n",
       "4     Hybrid\n",
       "Name: remote_ratio, dtype: object"
      ]
     },
     "execution_count": 15,
     "metadata": {},
     "output_type": "execute_result"
    }
   ],
   "source": [
    "print(\"First 5 remote:\")\n",
    "df['remote_ratio'][:5]"
   ]
  },
  {
   "cell_type": "code",
   "execution_count": 16,
   "metadata": {},
   "outputs": [],
   "source": [
    "# Replacing experience_level into understandable formate\n",
    "df['experience_level'].replace(['EN', 'MI', 'SE', 'EX'],\n",
    "                               ['Entry-level/Junior', 'Mid-level/Intermediate', 'Senior-level/Expert', 'Executive-level/Director'],\n",
    "                               inplace = True)"
   ]
  },
  {
   "cell_type": "code",
   "execution_count": 17,
   "metadata": {},
   "outputs": [
    {
     "name": "stdout",
     "output_type": "stream",
     "text": [
      "First 5 experience level:\n"
     ]
    },
    {
     "data": {
      "text/plain": [
       "0    Mid-level/Intermediate\n",
       "1       Senior-level/Expert\n",
       "2       Senior-level/Expert\n",
       "3    Mid-level/Intermediate\n",
       "4       Senior-level/Expert\n",
       "Name: experience_level, dtype: object"
      ]
     },
     "execution_count": 17,
     "metadata": {},
     "output_type": "execute_result"
    }
   ],
   "source": [
    "print(\"First 5 experience level:\")\n",
    "df['experience_level'][:5]"
   ]
  },
  {
   "cell_type": "code",
   "execution_count": 18,
   "metadata": {},
   "outputs": [],
   "source": [
    "# Replacing employment_type into understandable formate\n",
    "df['employment_type'].replace(['PT', 'FT', 'CT', 'FL'], ['Part-time', 'Full-time' ,'Contract', 'Freelance'], inplace = True)"
   ]
  },
  {
   "cell_type": "code",
   "execution_count": 19,
   "metadata": {},
   "outputs": [
    {
     "name": "stdout",
     "output_type": "stream",
     "text": [
      "First 5 employment type:\n"
     ]
    },
    {
     "data": {
      "text/plain": [
       "0    Full-time\n",
       "1    Full-time\n",
       "2    Full-time\n",
       "3    Full-time\n",
       "4    Full-time\n",
       "Name: employment_type, dtype: object"
      ]
     },
     "execution_count": 19,
     "metadata": {},
     "output_type": "execute_result"
    }
   ],
   "source": [
    "print(\"First 5 employment type:\")\n",
    "df['employment_type'][:5]"
   ]
  },
  {
   "cell_type": "code",
   "execution_count": 20,
   "metadata": {},
   "outputs": [],
   "source": [
    "# Replacing company_size into understandable formate\n",
    "df['company_size'].replace(['S', 'M', 'L'], ['Small', 'Medium' ,'Large'], inplace = True)"
   ]
  },
  {
   "cell_type": "code",
   "execution_count": 21,
   "metadata": {},
   "outputs": [
    {
     "name": "stdout",
     "output_type": "stream",
     "text": [
      "First 5 company size:\n"
     ]
    },
    {
     "data": {
      "text/plain": [
       "0     Large\n",
       "1     Small\n",
       "2    Medium\n",
       "3     Small\n",
       "4     Large\n",
       "Name: company_size, dtype: object"
      ]
     },
     "execution_count": 21,
     "metadata": {},
     "output_type": "execute_result"
    }
   ],
   "source": [
    "print(\"First 5 company size:\")\n",
    "df['company_size'][:5]"
   ]
  },
  {
   "cell_type": "code",
   "execution_count": 22,
   "metadata": {},
   "outputs": [
    {
     "data": {
      "text/html": [
       "<div>\n",
       "<style scoped>\n",
       "    .dataframe tbody tr th:only-of-type {\n",
       "        vertical-align: middle;\n",
       "    }\n",
       "\n",
       "    .dataframe tbody tr th {\n",
       "        vertical-align: top;\n",
       "    }\n",
       "\n",
       "    .dataframe thead th {\n",
       "        text-align: right;\n",
       "    }\n",
       "</style>\n",
       "<table border=\"1\" class=\"dataframe\">\n",
       "  <thead>\n",
       "    <tr style=\"text-align: right;\">\n",
       "      <th></th>\n",
       "      <th>work_year</th>\n",
       "      <th>experience_level</th>\n",
       "      <th>employment_type</th>\n",
       "      <th>job_title</th>\n",
       "      <th>salary</th>\n",
       "      <th>salary_currency</th>\n",
       "      <th>salary_in_usd</th>\n",
       "      <th>employee_residence</th>\n",
       "      <th>remote_ratio</th>\n",
       "      <th>company_location</th>\n",
       "      <th>company_size</th>\n",
       "    </tr>\n",
       "  </thead>\n",
       "  <tbody>\n",
       "    <tr>\n",
       "      <th>0</th>\n",
       "      <td>2020</td>\n",
       "      <td>Mid-level/Intermediate</td>\n",
       "      <td>Full-time</td>\n",
       "      <td>Data Scientist</td>\n",
       "      <td>70000</td>\n",
       "      <td>EUR</td>\n",
       "      <td>79833</td>\n",
       "      <td>Germany</td>\n",
       "      <td>On-site</td>\n",
       "      <td>Germany</td>\n",
       "      <td>Large</td>\n",
       "    </tr>\n",
       "    <tr>\n",
       "      <th>1</th>\n",
       "      <td>2020</td>\n",
       "      <td>Senior-level/Expert</td>\n",
       "      <td>Full-time</td>\n",
       "      <td>Machine Learning Scientist</td>\n",
       "      <td>260000</td>\n",
       "      <td>USD</td>\n",
       "      <td>260000</td>\n",
       "      <td>Japan</td>\n",
       "      <td>On-site</td>\n",
       "      <td>Japan</td>\n",
       "      <td>Small</td>\n",
       "    </tr>\n",
       "    <tr>\n",
       "      <th>2</th>\n",
       "      <td>2020</td>\n",
       "      <td>Senior-level/Expert</td>\n",
       "      <td>Full-time</td>\n",
       "      <td>Big Data Engineer</td>\n",
       "      <td>85000</td>\n",
       "      <td>GBP</td>\n",
       "      <td>109024</td>\n",
       "      <td>United Kingdom</td>\n",
       "      <td>Hybrid</td>\n",
       "      <td>United Kingdom</td>\n",
       "      <td>Medium</td>\n",
       "    </tr>\n",
       "    <tr>\n",
       "      <th>3</th>\n",
       "      <td>2020</td>\n",
       "      <td>Mid-level/Intermediate</td>\n",
       "      <td>Full-time</td>\n",
       "      <td>Product Data Analyst</td>\n",
       "      <td>20000</td>\n",
       "      <td>USD</td>\n",
       "      <td>20000</td>\n",
       "      <td>Honduras</td>\n",
       "      <td>On-site</td>\n",
       "      <td>Honduras</td>\n",
       "      <td>Small</td>\n",
       "    </tr>\n",
       "    <tr>\n",
       "      <th>4</th>\n",
       "      <td>2020</td>\n",
       "      <td>Senior-level/Expert</td>\n",
       "      <td>Full-time</td>\n",
       "      <td>Machine Learning Engineer</td>\n",
       "      <td>150000</td>\n",
       "      <td>USD</td>\n",
       "      <td>150000</td>\n",
       "      <td>United States</td>\n",
       "      <td>Hybrid</td>\n",
       "      <td>United States</td>\n",
       "      <td>Large</td>\n",
       "    </tr>\n",
       "  </tbody>\n",
       "</table>\n",
       "</div>"
      ],
      "text/plain": [
       "   work_year        experience_level employment_type  \\\n",
       "0       2020  Mid-level/Intermediate       Full-time   \n",
       "1       2020     Senior-level/Expert       Full-time   \n",
       "2       2020     Senior-level/Expert       Full-time   \n",
       "3       2020  Mid-level/Intermediate       Full-time   \n",
       "4       2020     Senior-level/Expert       Full-time   \n",
       "\n",
       "                    job_title  salary salary_currency  salary_in_usd  \\\n",
       "0              Data Scientist   70000             EUR          79833   \n",
       "1  Machine Learning Scientist  260000             USD         260000   \n",
       "2           Big Data Engineer   85000             GBP         109024   \n",
       "3        Product Data Analyst   20000             USD          20000   \n",
       "4   Machine Learning Engineer  150000             USD         150000   \n",
       "\n",
       "  employee_residence remote_ratio company_location company_size  \n",
       "0            Germany      On-site          Germany        Large  \n",
       "1              Japan      On-site            Japan        Small  \n",
       "2     United Kingdom       Hybrid   United Kingdom       Medium  \n",
       "3           Honduras      On-site         Honduras        Small  \n",
       "4      United States       Hybrid    United States        Large  "
      ]
     },
     "execution_count": 22,
     "metadata": {},
     "output_type": "execute_result"
    }
   ],
   "source": [
    "# Now, the updated dataset - first 5 rows\n",
    "df.head()"
   ]
  },
  {
   "cell_type": "markdown",
   "metadata": {},
   "source": [
    "<a id=\"3\"></a>\n",
    "## <div><p style=\"color:darkmagenta; font-family:Cursive\"><b>3. Univariate Analysis</p></div>"
   ]
  },
  {
   "cell_type": "markdown",
   "metadata": {},
   "source": [
    "<a id=\"3.1\"></a>\n",
    "### <div><p style=\"color:#b50264; font-family:Cursive\"><b>3.1. Categorical Columns</p></div>"
   ]
  },
  {
   "cell_type": "markdown",
   "metadata": {},
   "source": [
    "<a id=\"3.1.1\"></a>\n",
    "#### <div><p style=\"color:MediumVioletRed; font-family:Cursive\"><b>3.1.1. Work Year</p></div>"
   ]
  },
  {
   "cell_type": "code",
   "execution_count": 24,
   "metadata": {},
   "outputs": [
    {
     "data": {
      "image/svg+xml": "<svg class=\"main-svg\" xmlns=\"http://www.w3.org/2000/svg\" xmlns:xlink=\"http://www.w3.org/1999/xlink\" width=\"700\" height=\"500\" style=\"\" viewBox=\"0 0 700 500\"><rect x=\"0\" y=\"0\" width=\"700\" height=\"500\" style=\"fill: rgb(17, 17, 17); fill-opacity: 1;\"/><defs id=\"defs-812c47\"><g class=\"clips\"/><g class=\"gradients\"/><g class=\"patterns\"/></defs><g class=\"bglayer\"/><g class=\"layer-below\"><g class=\"imagelayer\"/><g class=\"shapelayer\"/></g><g class=\"cartesianlayer\"/><g class=\"polarlayer\"/><g class=\"smithlayer\"/><g class=\"ternarylayer\"/><g class=\"geolayer\"/><g class=\"funnelarealayer\"/><g class=\"pielayer\"><g class=\"trace\" stroke-linejoin=\"round\" style=\"opacity: 1;\"><g class=\"slice\"><path class=\"surface\" d=\"M342.5,260l0,-160a160,160 0 1 1 -23.92474518825987,318.20115855352276Z\" style=\"pointer-events: all; stroke-width: 0; fill: rgb(13, 8, 135); fill-opacity: 1; stroke: rgb(68, 68, 68); stroke-opacity: 1;\"/><g class=\"slicetext\"><text data-notex=\"1\" class=\"slicetext\" transform=\"translate(422.21232792880505,254.89650626665696)\" text-anchor=\"middle\" x=\"0\" y=\"0\" style=\"font-family: 'Open Sans', verdana, arial, sans-serif; font-size: 12px; fill: rgb(255, 255, 255); fill-opacity: 1; white-space: pre;\"><tspan class=\"line\" dy=\"0em\" x=\"0\" y=\"0\">2022</tspan><tspan class=\"line\" dy=\"1.3em\" x=\"0\" y=\"0\">318</tspan><tspan class=\"line\" dy=\"2.6em\" x=\"0\" y=\"0\">52.4%</tspan></text></g></g><g class=\"slice\"><path class=\"surface\" d=\"M342.5,260l-124.87145393988146,100.03559362017131a160,160 0 0 1 124.87145393988146,-260.0355936201713Z\" style=\"pointer-events: all; stroke-width: 0; fill: rgb(70, 3, 159); fill-opacity: 1; stroke: rgb(68, 68, 68); stroke-opacity: 1;\"/><g class=\"slicetext\"><text data-notex=\"1\" class=\"slicetext\" transform=\"translate(266.58383081020156,212.4728165819636)\" text-anchor=\"middle\" x=\"0\" y=\"0\" style=\"font-family: 'Open Sans', verdana, arial, sans-serif; font-size: 12px; fill: rgb(255, 255, 255); fill-opacity: 1; white-space: pre;\"><tspan class=\"line\" dy=\"0em\" x=\"0\" y=\"0\">2021</tspan><tspan class=\"line\" dy=\"1.3em\" x=\"0\" y=\"0\">217</tspan><tspan class=\"line\" dy=\"2.6em\" x=\"0\" y=\"0\">35.7%</tspan></text></g></g><g class=\"slice\"><path class=\"surface\" d=\"M342.5,260l-23.924745188259905,158.20115855352273a160,160 0 0 1 -100.94670875162156,-58.16556493335142Z\" style=\"pointer-events: all; stroke-width: 0; fill: rgb(114, 1, 168); fill-opacity: 1; stroke: rgb(68, 68, 68); stroke-opacity: 1;\"/><g class=\"slicetext\"><text data-notex=\"1\" class=\"slicetext\" transform=\"translate(283.8775103845363,350.52967280191405)\" text-anchor=\"middle\" x=\"0\" y=\"0\" style=\"font-family: 'Open Sans', verdana, arial, sans-serif; font-size: 12px; fill: rgb(255, 255, 255); fill-opacity: 1; white-space: pre;\"><tspan class=\"line\" dy=\"0em\" x=\"0\" y=\"0\">2020</tspan><tspan class=\"line\" dy=\"1.3em\" x=\"0\" y=\"0\">72</tspan><tspan class=\"line\" dy=\"2.6em\" x=\"0\" y=\"0\">11.9%</tspan></text></g></g></g></g><g class=\"iciclelayer\"/><g class=\"treemaplayer\"/><g class=\"sunburstlayer\"/><g class=\"glimages\"/><defs id=\"topdefs-812c47\"><g class=\"clips\"/><clipPath id=\"legend812c47\"><rect width=\"73\" height=\"67\" x=\"0\" y=\"0\"/></clipPath></defs><g class=\"layer-above\"><g class=\"imagelayer\"/><g class=\"shapelayer\"/></g><g class=\"infolayer\"><g class=\"legend\" pointer-events=\"all\" transform=\"translate(615.5,100)\"><rect class=\"bg\" shape-rendering=\"crispEdges\" width=\"73\" height=\"67\" x=\"0\" y=\"0\" style=\"stroke: rgb(68, 68, 68); stroke-opacity: 1; fill: rgb(17, 17, 17); fill-opacity: 1; stroke-width: 0px;\"/><g class=\"scrollbox\" transform=\"\" clip-path=\"url(#legend812c47)\"><g class=\"groups\"><g class=\"traces\" transform=\"translate(0,14.5)\" style=\"opacity: 1;\"><text class=\"legendtext\" text-anchor=\"start\" x=\"40\" y=\"4.680000000000001\" style=\"font-family: 'Open Sans', verdana, arial, sans-serif; font-size: 12px; fill: rgb(242, 245, 250); fill-opacity: 1; white-space: pre;\">2022</text><g class=\"layers\" style=\"opacity: 1;\"><g class=\"legendfill\"/><g class=\"legendlines\"/><g class=\"legendsymbols\"><g class=\"legendpoints\"><path class=\"legendpie\" d=\"M6,6H-6V-6H6Z\" transform=\"translate(20,0)\" style=\"stroke-width: 0; fill: rgb(13, 8, 135); fill-opacity: 1; stroke: rgb(68, 68, 68); stroke-opacity: 1;\"/></g></g></g><rect class=\"legendtoggle\" x=\"0\" y=\"-9.5\" width=\"67.59375\" height=\"19\" style=\"fill: rgb(0, 0, 0); fill-opacity: 0;\"/></g><g class=\"traces\" transform=\"translate(0,33.5)\" style=\"opacity: 1;\"><text class=\"legendtext\" text-anchor=\"start\" x=\"40\" y=\"4.680000000000001\" style=\"font-family: 'Open Sans', verdana, arial, sans-serif; font-size: 12px; fill: rgb(242, 245, 250); fill-opacity: 1; white-space: pre;\">2021</text><g class=\"layers\" style=\"opacity: 1;\"><g class=\"legendfill\"/><g class=\"legendlines\"/><g class=\"legendsymbols\"><g class=\"legendpoints\"><path class=\"legendpie\" d=\"M6,6H-6V-6H6Z\" transform=\"translate(20,0)\" style=\"stroke-width: 0; fill: rgb(70, 3, 159); fill-opacity: 1; stroke: rgb(68, 68, 68); stroke-opacity: 1;\"/></g></g></g><rect class=\"legendtoggle\" x=\"0\" y=\"-9.5\" width=\"67.59375\" height=\"19\" style=\"fill: rgb(0, 0, 0); fill-opacity: 0;\"/></g><g class=\"traces\" transform=\"translate(0,52.5)\" style=\"opacity: 1;\"><text class=\"legendtext\" text-anchor=\"start\" x=\"40\" y=\"4.680000000000001\" style=\"font-family: 'Open Sans', verdana, arial, sans-serif; font-size: 12px; fill: rgb(242, 245, 250); fill-opacity: 1; white-space: pre;\">2020</text><g class=\"layers\" style=\"opacity: 1;\"><g class=\"legendfill\"/><g class=\"legendlines\"/><g class=\"legendsymbols\"><g class=\"legendpoints\"><path class=\"legendpie\" d=\"M6,6H-6V-6H6Z\" transform=\"translate(20,0)\" style=\"stroke-width: 0; fill: rgb(114, 1, 168); fill-opacity: 1; stroke: rgb(68, 68, 68); stroke-opacity: 1;\"/></g></g></g><rect class=\"legendtoggle\" x=\"0\" y=\"-9.5\" width=\"67.59375\" height=\"19\" style=\"fill: rgb(0, 0, 0); fill-opacity: 0;\"/></g></g></g><rect class=\"scrollbar\" rx=\"20\" ry=\"3\" width=\"0\" height=\"0\" x=\"0\" y=\"0\" style=\"fill: rgb(128, 139, 164); fill-opacity: 1;\"/></g><g class=\"g-gtitle\"><text class=\"gtitle\" x=\"35\" y=\"50\" text-anchor=\"start\" dy=\"0em\" style=\"font-family: 'Open Sans', verdana, arial, sans-serif; font-size: 17px; fill: rgb(242, 245, 250); opacity: 1; font-weight: normal; white-space: pre;\">Work Year Distribution</text></g></g></svg>"
     },
     "metadata": {},
     "output_type": "display_data"
    }
   ],
   "source": [
    "work_year = df[\"work_year\"].value_counts()\n",
    "\n",
    "fig = px.pie(values=work_year.values,\n",
    "             names=work_year.index,\n",
    "             color_discrete_sequence=px.colors.sequential.Plasma,\n",
    "             title=\"Work Year Distribution\",\n",
    "             template=\"plotly_dark\"\n",
    "             )\n",
    "fig.update_traces(textinfo='label+value+percent')\n",
    "\n",
    "fig.show('svg')"
   ]
  },
  {
   "cell_type": "markdown",
   "metadata": {},
   "source": [
    "<div style=\"color:DarkSlateGray;text-align:center;border-bottom:2px dotted gray; border-left: 2px dotted gray;border-right: 2px dotted gray\">\n",
    "    <h4>Note</h4>\n",
    "    <p style=\"text-align:center;\">\n",
    "        More than half of the Data Science jobs were in 2022 (<span style='font-weight: bold'>52.4%</span>). 2021 was the second most which is <span style='font-weight: bold'>35.7%</span> and 2020 had <span style='font-weight: bold'>11.9%</span>.\n",
    "    </p>\n",
    "</div>"
   ]
  }
 ],
 "metadata": {
  "kernelspec": {
   "display_name": "Python 3 (ipykernel)",
   "language": "python",
   "name": "python3"
  },
  "language_info": {
   "codemirror_mode": {
    "name": "ipython",
    "version": 3
   },
   "file_extension": ".py",
   "mimetype": "text/x-python",
   "name": "python",
   "nbconvert_exporter": "python",
   "pygments_lexer": "ipython3",
   "version": "3.10.4"
  },
  "vscode": {
   "interpreter": {
    "hash": "a4250ced6f4fc3a20c09de333a8557c7b00614cf6995b2815f54482752397a1e"
   }
  }
 },
 "nbformat": 4,
 "nbformat_minor": 1
}
