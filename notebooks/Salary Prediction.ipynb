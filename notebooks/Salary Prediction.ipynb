{
 "cells": [
  {
   "cell_type": "markdown",
   "metadata": {},
   "source": [
    "<h1 style=\"color:darkmagenta; text-align:center; font-family:Cursive\">\n",
    "    <b>Salary Prediction\n",
    "    <b><br>of\n",
    "    <b><br>Data Science Job Salary\n",
    "</h1>"
   ]
  },
  {
   "cell_type": "markdown",
   "metadata": {},
   "source": [
    "## <div><p style=\"color:#b50264; font-family:Cursive\"><b>🎯 Notebook Goal</p></div>"
   ]
  },
  {
   "cell_type": "markdown",
   "metadata": {},
   "source": [
    "1. **Predicting the salary** of the Data Science Job market. 💸"
   ]
  },
  {
   "cell_type": "markdown",
   "metadata": {},
   "source": [
    "## <div><p style=\"color:#b50264; font-family:Cursive\"><b>🏷️ Table of Contents</p></div>\n",
    "<a id=\"top\"></a>\n",
    "<div class=\"list-group\" id=\"list-tab\" role=\"tablist\">\n",
    "\n",
    "   1. [Import Necessary Libraries](#1)\n",
    "   2. [Getting Data](#2)\n",
    "   3. [Pre-processing](#3)\n",
    "      - 3.1 [Outliers](#3.1)\n",
    "         - 3.1.1 [Finding Outliers](#3.1.1)\n",
    "         - 3.1.2 [Removing Outliers](#3.1.2)\n",
    "      - 3.2 [Remove Duplicates](#3.2)\n",
    "      - 3.3 [Data Scaling](#3.3)\n",
    "   4. [Modeling](#4)"
   ]
  },
  {
   "cell_type": "markdown",
   "metadata": {},
   "source": [
    "<a id=\"1\"></a>\n",
    "## <div><p style=\"color:darkmagenta; font-family:Cursive\"><b>1. Import Necessary Libraries</p></div>"
   ]
  },
  {
   "cell_type": "code",
   "execution_count": 1,
   "metadata": {},
   "outputs": [],
   "source": [
    "# data\n",
    "import pandas as pd\n",
    "import numpy as np\n",
    "\n",
    "# sklearn\n",
    "from sklearn.preprocessing import MinMaxScaler\n",
    "from sklearn.model_selection import train_test_split\n",
    "from sklearn.metrics import mean_squared_error,r2_score,mean_absolute_error\n",
    "\n",
    "# models\n",
    "from sklearn.ensemble import GradientBoostingRegressor\n",
    "from sklearn.neighbors import KNeighborsRegressor\n",
    "from sklearn.tree import DecisionTreeRegressor\n",
    "from sklearn.ensemble import RandomForestRegressor"
   ]
  },
  {
   "cell_type": "markdown",
   "metadata": {},
   "source": [
    "<a id=\"2\"></a>\n",
    "## <div><p style=\"color:darkmagenta; font-family:Cursive\"><b>2. Getting Data</p></div>"
   ]
  },
  {
   "cell_type": "code",
   "execution_count": 2,
   "metadata": {},
   "outputs": [
    {
     "data": {
      "text/html": [
       "<div>\n",
       "<style scoped>\n",
       "    .dataframe tbody tr th:only-of-type {\n",
       "        vertical-align: middle;\n",
       "    }\n",
       "\n",
       "    .dataframe tbody tr th {\n",
       "        vertical-align: top;\n",
       "    }\n",
       "\n",
       "    .dataframe thead th {\n",
       "        text-align: right;\n",
       "    }\n",
       "</style>\n",
       "<table border=\"1\" class=\"dataframe\">\n",
       "  <thead>\n",
       "    <tr style=\"text-align: right;\">\n",
       "      <th></th>\n",
       "      <th>work_year</th>\n",
       "      <th>experience_level</th>\n",
       "      <th>employment_type</th>\n",
       "      <th>job_title</th>\n",
       "      <th>salary</th>\n",
       "      <th>salary_currency</th>\n",
       "      <th>salary_in_usd</th>\n",
       "      <th>employee_residence</th>\n",
       "      <th>remote_ratio</th>\n",
       "      <th>company_location</th>\n",
       "      <th>company_size</th>\n",
       "    </tr>\n",
       "  </thead>\n",
       "  <tbody>\n",
       "    <tr>\n",
       "      <th>0</th>\n",
       "      <td>2020</td>\n",
       "      <td>MI</td>\n",
       "      <td>FT</td>\n",
       "      <td>Data Scientist</td>\n",
       "      <td>70000</td>\n",
       "      <td>EUR</td>\n",
       "      <td>79833</td>\n",
       "      <td>DE</td>\n",
       "      <td>0</td>\n",
       "      <td>DE</td>\n",
       "      <td>L</td>\n",
       "    </tr>\n",
       "    <tr>\n",
       "      <th>1</th>\n",
       "      <td>2020</td>\n",
       "      <td>SE</td>\n",
       "      <td>FT</td>\n",
       "      <td>Machine Learning Scientist</td>\n",
       "      <td>260000</td>\n",
       "      <td>USD</td>\n",
       "      <td>260000</td>\n",
       "      <td>JP</td>\n",
       "      <td>0</td>\n",
       "      <td>JP</td>\n",
       "      <td>S</td>\n",
       "    </tr>\n",
       "    <tr>\n",
       "      <th>2</th>\n",
       "      <td>2020</td>\n",
       "      <td>SE</td>\n",
       "      <td>FT</td>\n",
       "      <td>Big Data Engineer</td>\n",
       "      <td>85000</td>\n",
       "      <td>GBP</td>\n",
       "      <td>109024</td>\n",
       "      <td>GB</td>\n",
       "      <td>50</td>\n",
       "      <td>GB</td>\n",
       "      <td>M</td>\n",
       "    </tr>\n",
       "  </tbody>\n",
       "</table>\n",
       "</div>"
      ],
      "text/plain": [
       "   work_year experience_level employment_type                   job_title  \\\n",
       "0       2020               MI              FT              Data Scientist   \n",
       "1       2020               SE              FT  Machine Learning Scientist   \n",
       "2       2020               SE              FT           Big Data Engineer   \n",
       "\n",
       "   salary salary_currency  salary_in_usd employee_residence  remote_ratio  \\\n",
       "0   70000             EUR          79833                 DE             0   \n",
       "1  260000             USD         260000                 JP             0   \n",
       "2   85000             GBP         109024                 GB            50   \n",
       "\n",
       "  company_location company_size  \n",
       "0               DE            L  \n",
       "1               JP            S  \n",
       "2               GB            M  "
      ]
     },
     "execution_count": 2,
     "metadata": {},
     "output_type": "execute_result"
    }
   ],
   "source": [
    "# read data and create DataFrame\n",
    "df = pd.read_csv(\"../data_given/ds_salaries.csv\", index_col=0)\n",
    "df.head(3)"
   ]
  },
  {
   "cell_type": "code",
   "execution_count": 3,
   "metadata": {},
   "outputs": [
    {
     "name": "stdout",
     "output_type": "stream",
     "text": [
      "Shape of the dataset:  (607, 11)\n"
     ]
    }
   ],
   "source": [
    "# shape of the dataset\n",
    "print(\"Shape of the dataset: \", df.shape)"
   ]
  },
  {
   "cell_type": "markdown",
   "metadata": {},
   "source": [
    "<a id=\"3\"></a>\n",
    "## <div><p style=\"color:darkmagenta; font-family:Cursive\"><b>3. Pre-processing</p></div>"
   ]
  },
  {
   "cell_type": "markdown",
   "metadata": {},
   "source": [
    "<a id=\"3.1\"></a>\n",
    "### <div><p style=\"color:#b50264; font-family:Cursive\"><b>3.1. Outliers</p></div>"
   ]
  },
  {
   "cell_type": "markdown",
   "metadata": {},
   "source": [
    "<a id=\"3.1.1\"></a>\n",
    "#### <div><p style=\"color:MediumVioletRed; font-family:Cursive\"><b>3.1.1. Finding Outliers</p></div>"
   ]
  },
  {
   "cell_type": "code",
   "execution_count": 4,
   "metadata": {},
   "outputs": [],
   "source": [
    "# Quartile information show\n",
    "def show_quartile(quartile, percentile, col_name, quarter_value):\n",
    "    print(\"Value of {}:\".format(quartile))\n",
    "    print(f\"{quartile}: {percentile} percentile of the {col_name} values is: \", quarter_value)"
   ]
  },
  {
   "cell_type": "code",
   "execution_count": 5,
   "metadata": {},
   "outputs": [],
   "source": [
    "# Calculate interquartile range\n",
    "def interquartile_range(quartile):\n",
    "    q1 = quartile[0]\n",
    "    q3 = quartile[2]\n",
    "    return q3 - q1"
   ]
  },
  {
   "cell_type": "code",
   "execution_count": 6,
   "metadata": {},
   "outputs": [],
   "source": [
    "# Limit finder\n",
    "def limit_finder(quartile, interquartile_range):\n",
    "    q1 = quartile[0]\n",
    "    q3 = quartile[2]\n",
    "\n",
    "    low = q1 - 1.5 * interquartile_range\n",
    "    up = q3 + 1.5 * interquartile_range\n",
    "\n",
    "    return low, up"
   ]
  },
  {
   "cell_type": "code",
   "execution_count": 7,
   "metadata": {},
   "outputs": [],
   "source": [
    "# Finding outliers\n",
    "def find_outliers(data, low, up):\n",
    "    outliers = []\n",
    "    for value in data:\n",
    "        if (value < low) or (value > up):\n",
    "            outliers.append(value)\n",
    "\n",
    "    return outliers"
   ]
  },
  {
   "cell_type": "code",
   "execution_count": 8,
   "metadata": {},
   "outputs": [],
   "source": [
    "# Outliers detection method\n",
    "def detect_outlier(data):\n",
    "    quartile_list = []\n",
    "    sorted_data = data.sort_values()\n",
    "\n",
    "    quarters = {\"Q1\": 25, \"Q2\": 50, \"Q3\": 75}\n",
    "    for q, p in quarters.items():\n",
    "        quarter_value = np.percentile(sorted_data, p, method = \"midpoint\")\n",
    "        quartile_list.append(quarter_value)\n",
    "        show_quartile(q, p, data.name, quarter_value)\n",
    "\n",
    "    iqr = interquartile_range(quartile_list)\n",
    "    print(\"\\nInterquartile range is: \", iqr)\n",
    "\n",
    "    low_limit, up_limit = limit_finder(quartile_list, iqr)\n",
    "    print(\"\\nLow Limit is: \", low_limit)\n",
    "    print(\"Up Limit is: \", up_limit)\n",
    "\n",
    "    outliers = find_outliers(sorted_data, low_limit, up_limit)\n",
    "    print(\"\\nOutliers in the dataset is: \", outliers)\n",
    "    return (low_limit, up_limit)"
   ]
  },
  {
   "cell_type": "code",
   "execution_count": 9,
   "metadata": {},
   "outputs": [
    {
     "name": "stdout",
     "output_type": "stream",
     "text": [
      "Value of Q1:\n",
      "Q1: 25 percentile of the salary_in_usd values is:  62726.0\n",
      "Value of Q2:\n",
      "Q2: 50 percentile of the salary_in_usd values is:  101570.0\n",
      "Value of Q3:\n",
      "Q3: 75 percentile of the salary_in_usd values is:  150000.0\n",
      "\n",
      "Interquartile range is:  87274.0\n",
      "\n",
      "Low Limit is:  -68185.0\n",
      "Up Limit is:  280911.0\n",
      "\n",
      "Outliers in the dataset is:  [324000, 325000, 380000, 405000, 412000, 416000, 423000, 450000, 450000, 600000]\n"
     ]
    }
   ],
   "source": [
    "low_limit, high_limit = detect_outlier(df[\"salary_in_usd\"])"
   ]
  },
  {
   "cell_type": "markdown",
   "metadata": {},
   "source": [
    "<a id=\"3.1.2\"></a>\n",
    "#### <div><p style=\"color:MediumVioletRed; font-family:Cursive\"><b>3.1.2. Removing Outliers</p></div>"
   ]
  },
  {
   "cell_type": "code",
   "execution_count": 10,
   "metadata": {},
   "outputs": [
    {
     "name": "stdout",
     "output_type": "stream",
     "text": [
      "Minimum Salary of DS Job:  2859\n",
      "Maximum Salary of DS Job:  276000\n",
      "Update: New shape of the dataset:  (597, 11)\n"
     ]
    }
   ],
   "source": [
    "df = df[(df[\"salary_in_usd\"] < high_limit) & (df[\"salary_in_usd\"] > low_limit)]\n",
    "print(\"Minimum Salary of DS Job: \", df[\"salary_in_usd\"].min())\n",
    "print(\"Maximum Salary of DS Job: \", df[\"salary_in_usd\"].max())\n",
    "print(\"Update: New shape of the dataset: \", df.shape)"
   ]
  },
  {
   "cell_type": "markdown",
   "metadata": {},
   "source": [
    "<div style=\"color:DarkSlateGray;text-align:center;border-bottom:2px dotted gray; border-left: 2px dotted gray;border-right: 2px dotted gray\">\n",
    "    <h4>Note</h4>\n",
    "    <p style=\"text-align:center;\">\n",
    "        <span style='font-weight: bold'>Minimum Salary</span> of DS Job is <span style='font-weight: bold'>2859 USD</span>.\n",
    "        <br>\n",
    "        <span style='font-weight: bold'>Maximum Salary</span> of DS Job is <span style='font-weight: bold'>276000 USD</span>.\n",
    "        <br>\n",
    "        <span style='font-weight: bold'>The new reduced shape of dataset</span> is <span style='font-weight: bold'>(597, 11)</span>.\n",
    "    </p>\n",
    "</div>"
   ]
  },
  {
   "cell_type": "markdown",
   "metadata": {},
   "source": [
    "<a id=\"3.2\"></a>\n",
    "### <div><p style=\"color:#b50264; font-family:Cursive\"><b>3.2. Remove Duplicates</p></div>"
   ]
  },
  {
   "cell_type": "code",
   "execution_count": 11,
   "metadata": {},
   "outputs": [
    {
     "name": "stdout",
     "output_type": "stream",
     "text": [
      "There are 42 duplicate rows in the dataset ..?\n"
     ]
    }
   ],
   "source": [
    "# Number of duplicate values\n",
    "duplicate_count = len(df[df.duplicated()])\n",
    "print(\"There are {} duplicate rows in the dataset ..?\".format(duplicate_count))"
   ]
  },
  {
   "cell_type": "code",
   "execution_count": 12,
   "metadata": {},
   "outputs": [
    {
     "name": "stdout",
     "output_type": "stream",
     "text": [
      "Update: Final Shape of the dataset:  (555, 11)\n"
     ]
    }
   ],
   "source": [
    "# Remove all the duplicates\n",
    "df = df.drop_duplicates()\n",
    "print(\"Update: Final Shape of the dataset: \", df.shape)"
   ]
  },
  {
   "cell_type": "markdown",
   "metadata": {},
   "source": [
    "<div style=\"color:DarkSlateGray;text-align:center;border-bottom:2px dotted gray; border-left: 2px dotted gray;border-right: 2px dotted gray\">\n",
    "    <h4>Note</h4>\n",
    "    <p style=\"text-align:center;\">\n",
    "        Shape of <span style='font-weight: bold'>given dataset</span> - <span style='font-weight: bold'>(607, 11)</span>.\n",
    "        <br>\n",
    "        Shape of <span style='font-weight: bold'>final dataset</span> - <span style='font-weight: bold'>(555, 11)</span>.\n",
    "    </p>\n",
    "</div>"
   ]
  },
  {
   "cell_type": "markdown",
   "metadata": {},
   "source": [
    "\n",
    "<a id=\"3.3\"></a>\n",
    "### <div><p style=\"color:#b50264; font-family:Cursive\"><b>3.3. Data Scaling</p></div>"
   ]
  },
  {
   "cell_type": "code",
   "execution_count": 13,
   "metadata": {},
   "outputs": [],
   "source": [
    "# define global random state\n",
    "np.random.seed(42)"
   ]
  },
  {
   "cell_type": "code",
   "execution_count": 14,
   "metadata": {},
   "outputs": [],
   "source": [
    "# shuffle\n",
    "df = df.sample(frac = 1, random_state = 42)"
   ]
  },
  {
   "cell_type": "code",
   "execution_count": 15,
   "metadata": {},
   "outputs": [],
   "source": [
    "# Convert categorical variable into indicator variables\n",
    "data = pd.get_dummies(df)"
   ]
  },
  {
   "cell_type": "code",
   "execution_count": 16,
   "metadata": {},
   "outputs": [],
   "source": [
    "# Scaling data\n",
    "scaler = MinMaxScaler()\n",
    "\n",
    "y = data[\"salary_in_usd\"]\n",
    "X = data.drop([\"salary_in_usd\"], axis = 1)\n",
    "X = scaler.fit_transform(X)"
   ]
  },
  {
   "cell_type": "markdown",
   "metadata": {},
   "source": [
    "\n",
    "\n",
    "<a id=\"4\"></a>\n",
    "## <div><p style=\"color:darkmagenta; font-family:Cursive\"><b>4. Modeling</p></div>"
   ]
  },
  {
   "cell_type": "code",
   "execution_count": 17,
   "metadata": {},
   "outputs": [],
   "source": [
    "# Splitting dataset into training and testing sets\n",
    "train_X, test_X, train_y, test_y = train_test_split(X, y, test_size = 0.2, random_state = 42)"
   ]
  },
  {
   "cell_type": "code",
   "execution_count": 18,
   "metadata": {},
   "outputs": [],
   "source": [
    "# Modeling the dataset with different models\n",
    "def models(train_X, test_X, train_y, test_y):\n",
    "    gbr = GradientBoostingRegressor()\n",
    "    knr = KNeighborsRegressor()\n",
    "    dtr = DecisionTreeRegressor()\n",
    "    rfr = RandomForestRegressor()\n",
    "\n",
    "    algorithms = [gbr, knr, dtr, rfr]\n",
    "    algo_names = [\"Gradient Boosting\",\n",
    "                  \"K-Neighbors\",\n",
    "                  \"Decision Tree\",\n",
    "                  \"Random Forest\"]\n",
    "\n",
    "    r_score = []\n",
    "    mse = []\n",
    "    mae = []\n",
    "    result = pd.DataFrame(columns = [\"R_Square\", \"MSE\", \"MAE\"], index = algo_names)\n",
    "\n",
    "    for algo in algorithms:\n",
    "        pred = algo.fit(train_X, train_y).predict(test_X)\n",
    "        r_score.append(r2_score(test_y, pred))\n",
    "        mse.append(mean_squared_error(test_y, pred) ** 0.5)\n",
    "        mae.append(mean_absolute_error(test_y, pred))\n",
    "\n",
    "    result[\"R_Square\"] = r_score\n",
    "    result[\"MSE\"] = mse\n",
    "    result[\"MAE\"] = mae\n",
    "\n",
    "    return result.sort_values(\"R_Square\", ascending = False)"
   ]
  },
  {
   "cell_type": "code",
   "execution_count": 19,
   "metadata": {},
   "outputs": [
    {
     "name": "stdout",
     "output_type": "stream",
     "text": [
      "Performance:\n"
     ]
    },
    {
     "data": {
      "text/html": [
       "<div>\n",
       "<style scoped>\n",
       "    .dataframe tbody tr th:only-of-type {\n",
       "        vertical-align: middle;\n",
       "    }\n",
       "\n",
       "    .dataframe tbody tr th {\n",
       "        vertical-align: top;\n",
       "    }\n",
       "\n",
       "    .dataframe thead th {\n",
       "        text-align: right;\n",
       "    }\n",
       "</style>\n",
       "<table border=\"1\" class=\"dataframe\">\n",
       "  <thead>\n",
       "    <tr style=\"text-align: right;\">\n",
       "      <th></th>\n",
       "      <th>R_Square</th>\n",
       "      <th>MSE</th>\n",
       "      <th>MAE</th>\n",
       "    </tr>\n",
       "  </thead>\n",
       "  <tbody>\n",
       "    <tr>\n",
       "      <th>Gradient Boosting</th>\n",
       "      <td>0.973242</td>\n",
       "      <td>9304.109381</td>\n",
       "      <td>5440.095491</td>\n",
       "    </tr>\n",
       "    <tr>\n",
       "      <th>Decision Tree</th>\n",
       "      <td>0.960994</td>\n",
       "      <td>11233.414349</td>\n",
       "      <td>4735.207207</td>\n",
       "    </tr>\n",
       "    <tr>\n",
       "      <th>Random Forest</th>\n",
       "      <td>0.944185</td>\n",
       "      <td>13437.491197</td>\n",
       "      <td>4830.019730</td>\n",
       "    </tr>\n",
       "    <tr>\n",
       "      <th>K-Neighbors</th>\n",
       "      <td>0.668456</td>\n",
       "      <td>32750.255502</td>\n",
       "      <td>24300.684685</td>\n",
       "    </tr>\n",
       "  </tbody>\n",
       "</table>\n",
       "</div>"
      ],
      "text/plain": [
       "                   R_Square           MSE           MAE\n",
       "Gradient Boosting  0.973242   9304.109381   5440.095491\n",
       "Decision Tree      0.960994  11233.414349   4735.207207\n",
       "Random Forest      0.944185  13437.491197   4830.019730\n",
       "K-Neighbors        0.668456  32750.255502  24300.684685"
      ]
     },
     "execution_count": 19,
     "metadata": {},
     "output_type": "execute_result"
    }
   ],
   "source": [
    "print(\"Performance:\")\n",
    "models(train_X, test_X, train_y, test_y)"
   ]
  },
  {
   "cell_type": "markdown",
   "metadata": {},
   "source": [
    "<div style=\"color:DarkSlateGray;text-align:center;border-bottom:2px dotted gray; border-left: 2px dotted gray;border-right: 2px dotted gray\">\n",
    "    <h4>Note</h4>\n",
    "    <p style=\"text-align:center;\">\n",
    "        In performance matrix areas, <span style='font-weight: bold'>Gradient Boosting</span> outperforms the other models (R-Square value: 97.32%).\n",
    "        <br>\n",
    "        Next best fitted models are <span style='font-weight: bold'>Decision Tree</span> and and <span style='font-weight: bold'>Random Forest</span> (R-Square value respectively 96.09% and 94.41%).\n",
    "        <br>\n",
    "        <span style='font-weight: bold'>K-Neighbors</span> performs worst in this dataset (66.84%).\n",
    "    </p>\n",
    "</div>"
   ]
  }
 ],
 "metadata": {
  "kernelspec": {
   "display_name": "Python 3.10.4 ('dsjs')",
   "language": "python",
   "name": "python3"
  },
  "language_info": {
   "codemirror_mode": {
    "name": "ipython",
    "version": 3
   },
   "file_extension": ".py",
   "mimetype": "text/x-python",
   "name": "python",
   "nbconvert_exporter": "python",
   "pygments_lexer": "ipython3",
   "version": "3.10.4"
  },
  "orig_nbformat": 4,
  "vscode": {
   "interpreter": {
    "hash": "a4250ced6f4fc3a20c09de333a8557c7b00614cf6995b2815f54482752397a1e"
   }
  }
 },
 "nbformat": 4,
 "nbformat_minor": 2
}
